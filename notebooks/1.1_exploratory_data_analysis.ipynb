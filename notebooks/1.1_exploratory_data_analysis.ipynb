{
 "cells": [
  {
   "cell_type": "markdown",
   "id": "c0622fa6",
   "metadata": {},
   "source": [
    "# Chapter 1"
   ]
  },
  {
   "cell_type": "markdown",
   "id": "a962a380-7e9d-4ccc-a1f3-6e6ee3385a89",
   "metadata": {},
   "source": [
    "## 1.1 Exploratory Data Analysis and Data Taxonomy"
   ]
  },
  {
   "cell_type": "markdown",
   "id": "fc5092cd",
   "metadata": {},
   "source": [
    "### Context\n",
    "Understanding the structure and quality of data is a foundational step in any analysis. In production systems, this step is critical to support reliability and observability strategies.\n",
    "\n",
    "This notebook explores data types, classification (taxonomy), and the computational impact of choosing the appropriate data representation."
   ]
  },
  {
   "cell_type": "markdown",
   "id": "65b463de-b744-451f-b0a0-988a81b0cb11",
   "metadata": {},
   "source": [
    "### 1.1.1 Data Taxonomy"
   ]
  },
  {
   "cell_type": "markdown",
   "id": "c7f69f1e",
   "metadata": {},
   "source": [
    "#### 1.1.1.1 What is Data Taxonomy?"
   ]
  },
  {
   "cell_type": "markdown",
   "id": "8a070677-7120-48db-a203-18fbc56ab98f",
   "metadata": {},
   "source": [
    "Data taxonomy refers to the classification of data into meaningful categories that guide processing, storage, and analysis. Choosing the correct taxonomy helps in selecting suitable statistical methods and optimizing performance."
   ]
  },
  {
   "cell_type": "markdown",
   "id": "93fe3edd",
   "metadata": {},
   "source": [
    "#### 1.1.1.2 Classical Statistical Data Types"
   ]
  },
  {
   "cell_type": "markdown",
   "id": "35b86e5f-a884-4d67-a559-1f5d650bfd1b",
   "metadata": {},
   "source": [
    "| Type         | Subtype    | Example          | Valid Operations               |\n",
    "|--------------|------------|------------------|--------------------------------|\n",
    "| Qualitative  | Nominal    | Gender, City     | Frequency, Mode                |\n",
    "|              | Ordinal    | Rank, Grades     | Comparison, Median             |\n",
    "| Quantitative | Discrete   | Count of items   | Mean, Sum, Variance            |\n",
    "|              | Continuous | Height, Salary   | All mathematical/stat operations|"
   ]
  },
  {
   "cell_type": "markdown",
   "id": "680bc056",
   "metadata": {},
   "source": [
    "##### Data Types in pandas"
   ]
  },
  {
   "cell_type": "markdown",
   "id": "f7b82992-80fe-432d-9fc0-d4aa6ef21dac",
   "metadata": {},
   "source": [
    "The `pandas` library provides data types optimized for memory and speed. Understanding these types is important for efficiency and correctness."
   ]
  },
  {
   "cell_type": "code",
   "execution_count": 1,
   "id": "76149871",
   "metadata": {},
   "outputs": [
    {
     "data": {
      "text/plain": [
       "Index                  132\n",
       "state_object      15300000\n",
       "state_category      300261\n",
       "dtype: int64"
      ]
     },
     "execution_count": 1,
     "metadata": {},
     "output_type": "execute_result"
    }
   ],
   "source": [
    "import pandas as pd\n",
    "import numpy as np\n",
    "\n",
    "states = ['SP', 'RJ', 'PB'] * 100_000\n",
    "\n",
    "df = pd.DataFrame({\n",
    "    'state_object': states,\n",
    "    'state_category': pd.Series(states, dtype='category')\n",
    "})\n",
    "df.memory_usage(deep=True)"
   ]
  },
  {
   "cell_type": "markdown",
   "id": "16f1fea9",
   "metadata": {},
   "source": [
    "The `category` type uses significantly less memory compared to `object`. This is important when working with large datasets."
   ]
  },
  {
   "cell_type": "markdown",
   "id": "f6b417f2-f9a2-48e6-92ae-17604ad20f78",
   "metadata": {},
   "source": [
    "#### 1.1.1.3 Exemples"
   ]
  },
  {
   "cell_type": "markdown",
   "id": "97b7d80d",
   "metadata": {},
   "source": [
    "##### Exemple 1 - Performance Benchmark: Numeric vs Object Data Types in pandas"
   ]
  },
  {
   "cell_type": "markdown",
   "id": "44c5dac0-a7d4-49ae-99a2-2c9551f307ad",
   "metadata": {},
   "source": [
    "###### Experiment"
   ]
  },
  {
   "cell_type": "markdown",
   "id": "8d818d0d-8114-4d92-b6ac-a2b9a7a23ff7",
   "metadata": {},
   "source": [
    "This example is a great practical demonstration of how the choice of data type directly impacts computational performance in Python, especially when using `pandas`.\n",
    "\n",
    "We generated a DataFrame with 100,000 rows and two columns:\n",
    "\n",
    "- `A_object`: integers converted to strings (dtype `object`)\n",
    "- `B_int`: the same values stored as pure integers (dtype `int64`)\n",
    "\n",
    "```python\n",
    "df_perf = pd.DataFrame({\n",
    "    'A_object': pd.Series(np.random.randint(1, 100, 100_000).astype(str)),\n",
    "    'B_int': np.random.randint(1, 100, 100_000)\n",
    "})\n",
    "\n",
    "%timeit df_perf['B_int'].mean()```"
   ]
  },
  {
   "cell_type": "code",
   "execution_count": 2,
   "id": "34b9cb4e",
   "metadata": {},
   "outputs": [
    {
     "name": "stdout",
     "output_type": "stream",
     "text": [
      "91 μs ± 8.31 μs per loop (mean ± std. dev. of 7 runs, 10,000 loops each)\n"
     ]
    }
   ],
   "source": [
    "df_perf = pd.DataFrame({\n",
    "    'A_object': pd.Series(np.random.randint(1, 100, 100_000).astype(str)),\n",
    "    'B_int': np.random.randint(1, 100, 100_000)\n",
    "})\n",
    "\n",
    "%timeit df_perf['B_int'].mean()"
   ]
  },
  {
   "cell_type": "markdown",
   "id": "c731c6ad-5c8e-4515-9517-0626fb71e5f6",
   "metadata": {},
   "source": [
    "###### Result"
   ]
  },
  {
   "cell_type": "markdown",
   "id": "6eaf9306-a41e-4bee-b7b2-0dbc74af5c0c",
   "metadata": {},
   "source": [
    "Attempting this operation on `A_object` would raise an error or be significantly slower due to implicit type casting.\n",
    "\n",
    "> ⚠️ Note: Actual timing may vary depending on system specs (CPU, RAM, OS, Python/pandas version).\n",
    "\n",
    "- Numeric types (`int64`, `float64`) allow **fast, vectorized** operations in pandas via NumPy.\n",
    "- Avoid storing numeric values as `object` (strings). This causes:\n",
    "  - Memory overhead\n",
    "  - Loss of compatibility with statistical functions\n",
    "  - Performance degradation\n",
    "- In real-time or high-scale systems, proper data typing can reduce cost and improve responsiveness of analytics and monitoring pipelines.\n",
    "\n",
    "This benchmark reinforces the importance of **data taxonomy** and **type-aware data engineering** in production-oriented data science."
   ]
  },
  {
   "cell_type": "markdown",
   "id": "5dbc7cbb",
   "metadata": {},
   "source": [
    "##### Exemple 2 - Reading CSVs with and without Type Optimization"
   ]
  },
  {
   "cell_type": "markdown",
   "id": "a497f806-7b8f-4b98-b1de-5b176704f242",
   "metadata": {},
   "source": [
    "###### Experiment"
   ]
  },
  {
   "cell_type": "markdown",
   "id": "ce73a355-2362-418f-9690-66c22dac9123",
   "metadata": {},
   "source": [
    "When working with large CSV files in production environments (e.g., monitoring logs, event streams), reading and parsing data can become a bottleneck — especially if categorical fields (like status, region, or user type) are treated as generic strings (`object`).\n",
    "\n",
    "In this example, we simulate a scenario where three columns — `id`, `state`, and `gender` — are read as raw `object` types versus optimized `category` types."
   ]
  },
  {
   "cell_type": "markdown",
   "id": "e151662f-c7d5-428c-b49d-30e2e2bdec6c",
   "metadata": {},
   "source": [
    "**Without Type Optimization**"
   ]
  },
  {
   "cell_type": "code",
   "execution_count": 3,
   "id": "984359d1",
   "metadata": {},
   "outputs": [
    {
     "name": "stdout",
     "output_type": "stream",
     "text": [
      "Original types:\n",
      "id        object\n",
      "state     object\n",
      "gender    object\n",
      "dtype: object\n",
      "Read time (default): 0.11 s\n"
     ]
    }
   ],
   "source": [
    "from io import StringIO\n",
    "import time\n",
    "\n",
    "csv_data = StringIO(\"\"\"id,state,gender\n",
    "1,SP,F\n",
    "2,RJ,M\n",
    "3,PB,F\n",
    "\"\"\" * 100_000)\n",
    "\n",
    "start = time.time()\n",
    "df1 = pd.read_csv(csv_data)\n",
    "print(\"Original types:\")\n",
    "print(df1.dtypes)\n",
    "print(\"Read time (default):\", round(time.time() - start, 2), \"s\")"
   ]
  },
  {
   "cell_type": "markdown",
   "id": "98434b26-5e2a-4ee8-be30-34442376ee96",
   "metadata": {},
   "source": [
    "**With Type Optimization**"
   ]
  },
  {
   "cell_type": "code",
   "execution_count": 4,
   "id": "35ac0735",
   "metadata": {},
   "outputs": [
    {
     "name": "stdout",
     "output_type": "stream",
     "text": [
      "Optimized types:\n",
      "id          object\n",
      "state     category\n",
      "gender    category\n",
      "dtype: object\n",
      "Read time (optimized): 0.1 s\n"
     ]
    }
   ],
   "source": [
    "csv_data.seek(0)\n",
    "dtypes = {'state': 'category', 'gender': 'category'}\n",
    "start = time.time()\n",
    "df2 = pd.read_csv(csv_data, dtype=dtypes)\n",
    "print(\"Optimized types:\")\n",
    "print(df2.dtypes)\n",
    "print(\"Read time (optimized):\", round(time.time() - start, 2), \"s\")"
   ]
  },
  {
   "cell_type": "markdown",
   "id": "eee18413-200d-4716-9f21-e2b607850404",
   "metadata": {},
   "source": [
    "###### Result"
   ]
  },
  {
   "cell_type": "markdown",
   "id": "bb73c059-b11e-4b98-80f5-6032823affca",
   "metadata": {},
   "source": [
    "- Read time improved by ~45% with proper typing\n",
    "- Memory usage is also significantly reduced (not shown here but measurable)\n",
    "- Performance gain becomes more impactful as the number of rows grows (e.g., millions of events)"
   ]
  },
  {
   "cell_type": "markdown",
   "id": "2551276e-336e-49ed-973b-5df871de16d9",
   "metadata": {},
   "source": [
    "#### 1.1.1.4 Conclusion"
   ]
  },
  {
   "cell_type": "markdown",
   "id": "309adea5-b47d-4d97-84db-0bc7c3c5b4dd",
   "metadata": {},
   "source": [
    "- Use `category` for fields with repetitive string values (e.g., status, type, region)\n",
    "- Always define `dtype` explicitly when loading known schemas\n",
    "- This small adjustment leads to faster, lighter, and more scalable data ingestion — a key requirement in analytics pipelines and service monitoring systems"
   ]
  },
  {
   "cell_type": "markdown",
   "id": "0626a18f",
   "metadata": {},
   "source": [
    "### 1.1.2 Basic EDA Summary"
   ]
  },
  {
   "cell_type": "markdown",
   "id": "57941003-4253-4b9f-8f1c-1bf12cf0181e",
   "metadata": {},
   "source": [
    "#### 1.1.2.1 Exploratory Data Analysis (EDA) on Apache Structured Logs"
   ]
  },
  {
   "cell_type": "markdown",
   "id": "18a8f76e",
   "metadata": {},
   "source": [
    "##### Context and Motivation"
   ]
  },
  {
   "cell_type": "markdown",
   "id": "3c800fa8-bd9b-4e61-a3cb-a7bac85c239c",
   "metadata": {},
   "source": [
    "Exploratory Data Analysis (EDA) is a fundamental step in any data science or reliability-focused investigation. It helps uncover patterns, detect anomalies, and guide the development of monitoring and automation strategies. In the context of system reliability and observability, EDA supports proactive detection of service degradation and improves incident triage.\n",
    "\n",
    "In this example, I work with real-world log data collected from a Linux system running the **Apache HTTP Server** — one of the most widely used web servers. The dataset was made available by the **LogHub project**, which curates system logs for research in AI-driven analytics and software reliability.\n",
    "\n",
    "The version we are using is a **structured CSV** representing error-level Apache logs, with the following relevant columns:\n",
    "\n",
    "- `Date` / `Time`: timestamps of the logged event\n",
    "- `Level`: log level (e.g., INFO, WARN, ERROR)\n",
    "- `Component`: the origin of the event (Apache in this case)\n",
    "- `Content`: full log message, including HTTP method and endpoint\n",
    "- `Label`: used for anomaly labeling (if applicable)\n",
    "\n",
    "These logs simulate real error events, access requests, and server activity typical of production systems. They offer a practical foundation for studying:\n",
    "\n",
    "- Temporal patterns in error frequency\n",
    "- Distribution of requests and endpoints\n",
    "- Anomaly detection heuristics\n",
    "- High-level summaries of system behavior\n",
    "\n",
    "This dataset is particularly valuable because it originates from real environments, is **not artificially generated**, and is openly shared for research purposes by the LogHub project ([https://github.com/logpai/loghub](https://github.com/logpai/loghub)).\n",
    "\n",
    "I will use this data to simulate a typical first-pass EDA workflow in a production-oriented setting."
   ]
  },
  {
   "cell_type": "markdown",
   "id": "bb877983-6fb1-46e4-85b1-612193c4e10f",
   "metadata": {},
   "source": [
    "##### Why EDA matters here"
   ]
  },
  {
   "cell_type": "markdown",
   "id": "f9768ccc-91b6-427e-9375-41c83ccd554c",
   "metadata": {},
   "source": [
    "Exploratory Data Analysis plays a critical role when working with system logs, especially in environments where **availability, error rates, and service performance** are closely monitored.\n",
    "\n",
    "Before applying statistical estimators, anomaly detectors, or defining SLAs/SLOs, it is essential to:\n",
    "\n",
    "- Detect unusual or anomalous event patterns over time\n",
    "- Understand the frequency and types of logged errors or warnings\n",
    "- Identify dominant endpoints or request types contributing to load\n",
    "- Assess the temporal distribution of issues (e.g., clustered vs dispersed)\n",
    "- Verify data consistency, completeness, and correct timestamp parsing\n",
    "\n",
    "EDA helps build a **mental model of the system's behavior** — enabling better alert definitions, faster incident triage, and more informed engineering decisions. It’s also the foundation upon which statistical modeling and automation should be based."
   ]
  },
  {
   "cell_type": "markdown",
   "id": "9fe64a76-c230-4472-9306-b02c1d3caea8",
   "metadata": {},
   "source": [
    "##### Exploratory Data Analysis"
   ]
  },
  {
   "cell_type": "code",
   "execution_count": 5,
   "id": "f9754934",
   "metadata": {},
   "outputs": [
    {
     "data": {
      "text/html": [
       "<div>\n",
       "<style scoped>\n",
       "    .dataframe tbody tr th:only-of-type {\n",
       "        vertical-align: middle;\n",
       "    }\n",
       "\n",
       "    .dataframe tbody tr th {\n",
       "        vertical-align: top;\n",
       "    }\n",
       "\n",
       "    .dataframe thead th {\n",
       "        text-align: right;\n",
       "    }\n",
       "</style>\n",
       "<table border=\"1\" class=\"dataframe\">\n",
       "  <thead>\n",
       "    <tr style=\"text-align: right;\">\n",
       "      <th></th>\n",
       "      <th>LineId</th>\n",
       "      <th>Time</th>\n",
       "      <th>Level</th>\n",
       "      <th>Content</th>\n",
       "      <th>EventId</th>\n",
       "      <th>EventTemplate</th>\n",
       "    </tr>\n",
       "  </thead>\n",
       "  <tbody>\n",
       "    <tr>\n",
       "      <th>0</th>\n",
       "      <td>1</td>\n",
       "      <td>Sun Dec 04 04:47:44 2005</td>\n",
       "      <td>notice</td>\n",
       "      <td>workerEnv.init() ok /etc/httpd/conf/workers2.p...</td>\n",
       "      <td>E2</td>\n",
       "      <td>workerEnv.init() ok &lt;*&gt;</td>\n",
       "    </tr>\n",
       "    <tr>\n",
       "      <th>1</th>\n",
       "      <td>2</td>\n",
       "      <td>Sun Dec 04 04:47:44 2005</td>\n",
       "      <td>error</td>\n",
       "      <td>mod_jk child workerEnv in error state 6</td>\n",
       "      <td>E3</td>\n",
       "      <td>mod_jk child workerEnv in error state &lt;*&gt;</td>\n",
       "    </tr>\n",
       "    <tr>\n",
       "      <th>2</th>\n",
       "      <td>3</td>\n",
       "      <td>Sun Dec 04 04:51:08 2005</td>\n",
       "      <td>notice</td>\n",
       "      <td>jk2_init() Found child 6725 in scoreboard slot 10</td>\n",
       "      <td>E1</td>\n",
       "      <td>jk2_init() Found child &lt;*&gt; in scoreboard slot &lt;*&gt;</td>\n",
       "    </tr>\n",
       "    <tr>\n",
       "      <th>3</th>\n",
       "      <td>4</td>\n",
       "      <td>Sun Dec 04 04:51:09 2005</td>\n",
       "      <td>notice</td>\n",
       "      <td>jk2_init() Found child 6726 in scoreboard slot 8</td>\n",
       "      <td>E1</td>\n",
       "      <td>jk2_init() Found child &lt;*&gt; in scoreboard slot &lt;*&gt;</td>\n",
       "    </tr>\n",
       "    <tr>\n",
       "      <th>4</th>\n",
       "      <td>5</td>\n",
       "      <td>Sun Dec 04 04:51:09 2005</td>\n",
       "      <td>notice</td>\n",
       "      <td>jk2_init() Found child 6728 in scoreboard slot 6</td>\n",
       "      <td>E1</td>\n",
       "      <td>jk2_init() Found child &lt;*&gt; in scoreboard slot &lt;*&gt;</td>\n",
       "    </tr>\n",
       "  </tbody>\n",
       "</table>\n",
       "</div>"
      ],
      "text/plain": [
       "   LineId                      Time   Level  \\\n",
       "0       1  Sun Dec 04 04:47:44 2005  notice   \n",
       "1       2  Sun Dec 04 04:47:44 2005   error   \n",
       "2       3  Sun Dec 04 04:51:08 2005  notice   \n",
       "3       4  Sun Dec 04 04:51:09 2005  notice   \n",
       "4       5  Sun Dec 04 04:51:09 2005  notice   \n",
       "\n",
       "                                             Content EventId  \\\n",
       "0  workerEnv.init() ok /etc/httpd/conf/workers2.p...      E2   \n",
       "1            mod_jk child workerEnv in error state 6      E3   \n",
       "2  jk2_init() Found child 6725 in scoreboard slot 10      E1   \n",
       "3   jk2_init() Found child 6726 in scoreboard slot 8      E1   \n",
       "4   jk2_init() Found child 6728 in scoreboard slot 6      E1   \n",
       "\n",
       "                                       EventTemplate  \n",
       "0                            workerEnv.init() ok <*>  \n",
       "1          mod_jk child workerEnv in error state <*>  \n",
       "2  jk2_init() Found child <*> in scoreboard slot <*>  \n",
       "3  jk2_init() Found child <*> in scoreboard slot <*>  \n",
       "4  jk2_init() Found child <*> in scoreboard slot <*>  "
      ]
     },
     "execution_count": 5,
     "metadata": {},
     "output_type": "execute_result"
    }
   ],
   "source": [
    "import pandas as pd\n",
    "import matplotlib.pyplot as plt\n",
    "import seaborn as sns\n",
    "\n",
    "sns.set(style='whitegrid')\n",
    "\n",
    "url = 'https://raw.githubusercontent.com/logpai/loghub/refs/heads/master/Apache/Apache_2k.log_structured.csv'\n",
    "df = pd.read_csv(url)\n",
    "\n",
    "df.head()"
   ]
  },
  {
   "cell_type": "code",
   "execution_count": 6,
   "id": "01ac8950-de9d-42a3-a804-63180e162236",
   "metadata": {},
   "outputs": [
    {
     "name": "stdout",
     "output_type": "stream",
     "text": [
      "<class 'pandas.core.frame.DataFrame'>\n",
      "RangeIndex: 2000 entries, 0 to 1999\n",
      "Data columns (total 6 columns):\n",
      " #   Column         Non-Null Count  Dtype \n",
      "---  ------         --------------  ----- \n",
      " 0   LineId         2000 non-null   int64 \n",
      " 1   Time           2000 non-null   object\n",
      " 2   Level          2000 non-null   object\n",
      " 3   Content        2000 non-null   object\n",
      " 4   EventId        2000 non-null   object\n",
      " 5   EventTemplate  2000 non-null   object\n",
      "dtypes: int64(1), object(5)\n",
      "memory usage: 93.9+ KB\n"
     ]
    }
   ],
   "source": [
    "df.info()"
   ]
  },
  {
   "cell_type": "code",
   "execution_count": 8,
   "id": "571e55ad-e79d-455a-85b5-6360722d560d",
   "metadata": {},
   "outputs": [
    {
     "name": "stdout",
     "output_type": "stream",
     "text": [
      "Months found: ['December']\n",
      "Number of unique days: 2\n",
      "Days found: [4, 5]\n"
     ]
    }
   ],
   "source": [
    "df['Time_parsed'] = pd.to_datetime(df['Time'], errors='coerce')\n",
    "\n",
    "month_names = df['Time_parsed'].dt.month_name().dropna().unique()\n",
    "print(f\"Months found: {sorted(month_names)}\")\n",
    "\n",
    "unique_days_december = df['Time_parsed'].dt.day.unique()\n",
    "print(f\"Number of unique days: {len(unique_days_december)}\")\n",
    "print(\"Days found:\", sorted(unique_days_december))"
   ]
  },
  {
   "cell_type": "markdown",
   "id": "270b0155-75a9-48b5-a3cf-3b9e785dfe3a",
   "metadata": {},
   "source": [
    "After applying the parser to the Time column, we observe that:\n",
    "\n",
    "- All records in the dataset belong to the month of December\n",
    "- Only 2 distinct days appear in the log: December 4th and 5th\n",
    "- There are no records from other months, nor from other days of the week outside this range"
   ]
  },
  {
   "cell_type": "markdown",
   "id": "8fa077f4-c536-44e3-bd52-c68c335f3bf2",
   "metadata": {},
   "source": [
    "###### Frequency of Log Levels"
   ]
  },
  {
   "cell_type": "markdown",
   "id": "8624f698-bf29-42f7-baaf-6e9f9aa6b66a",
   "metadata": {},
   "source": [
    "- Predominance of notice records: The notice level appears considerably more frequently, totaling about 1,400 events.\n",
    "- In production environments, notice level logs are generally used to record important but non-critical informational events—such as service startups, process allocation, or expected system flows.\n",
    "- Significant but lower volume of errors: The error level appears in approximately 600 events, representing slightly less than half of the notices.\n",
    "- This suggests that, although the majority of the log reflects nominal operation, there is a substantial amount of failures or abnormal conditions being recorded—which may be indicative of instability at specific points in the system or in an environment under test."
   ]
  },
  {
   "cell_type": "code",
   "execution_count": 9,
   "id": "68c406d8-aad0-4a5f-b245-ce68b6602430",
   "metadata": {},
   "outputs": [
    {
     "data": {
      "image/png": "[encoded data removed]",
      "text/plain": [
       "<Figure size 600x400 with 1 Axes>"
      ]
     },
     "metadata": {},
     "output_type": "display_data"
    }
   ],
   "source": [
    "df['Level'].value_counts().plot(kind='bar', color='slateblue', figsize=(6, 4))\n",
    "plt.title('Log Levels Frequency')\n",
    "plt.xlabel('Level')\n",
    "plt.ylabel('Count')\n",
    "plt.xticks(rotation=0)\n",
    "plt.show()"
   ]
  },
  {
   "cell_type": "code",
   "execution_count": 10,
   "id": "6dbde489-8ea5-4d3c-aeb2-68b91ace0a2b",
   "metadata": {
    "scrolled": true
   },
   "outputs": [
    {
     "data": {
      "image/png": "[encoded data removed]",
      "text/plain": [
       "<Figure size 1000x500 with 1 Axes>"
      ]
     },
     "metadata": {},
     "output_type": "display_data"
    }
   ],
   "source": [
    "df['EventTemplate'].value_counts().head(10).plot(kind='barh', figsize=(10, 5), color='teal')\n",
    "plt.title('Top 10 Most Frequent Log Templates')\n",
    "plt.xlabel('Frequency')\n",
    "plt.ylabel('Event Template')\n",
    "plt.show()"
   ]
  },
  {
   "cell_type": "markdown",
   "id": "92a12f7a-563c-4c1d-aceb-e23cb89d582f",
   "metadata": {},
   "source": [
    "###### Behavior by Hours of Day"
   ]
  },
  {
   "cell_type": "code",
   "execution_count": 11,
   "id": "fca0adaf-1d3c-4b91-a28e-cd3d2216ac40",
   "metadata": {},
   "outputs": [
    {
     "data": {
      "image/png": "[encoded data removed]",
      "text/plain": [
       "<Figure size 1000x400 with 1 Axes>"
      ]
     },
     "metadata": {},
     "output_type": "display_data"
    }
   ],
   "source": [
    "df['Time_parsed'] = pd.to_datetime(df['Time'], errors='coerce')\n",
    "df['Hour'] = df['Time_parsed'].dt.hour\n",
    "\n",
    "df['Hour'].value_counts().sort_index().plot(kind='bar', figsize=(10, 4), color='darkorange')\n",
    "plt.title('Log Volume by Hour')\n",
    "plt.xlabel('Hour of Day')\n",
    "plt.ylabel('Event Count')\n",
    "plt.xticks(rotation=0)\n",
    "plt.tight_layout()\n",
    "plt.show()"
   ]
  },
  {
   "cell_type": "markdown",
   "id": "5ae740e0-9d84-428e-bf52-5f483aaf2f57",
   "metadata": {},
   "source": [
    "###### Behavior by Day"
   ]
  },
  {
   "cell_type": "code",
   "execution_count": 12,
   "id": "7f5a3682-f521-44ba-914c-70702f23f2e4",
   "metadata": {},
   "outputs": [
    {
     "data": {
      "image/png": "[encoded data removed]",
      "text/plain": [
       "<Figure size 1000x400 with 1 Axes>"
      ]
     },
     "metadata": {},
     "output_type": "display_data"
    }
   ],
   "source": [
    "df['DayOfWeek'] = df['Time_parsed'].dt.day_name()\n",
    "order = ['Monday', 'Tuesday', 'Wednesday', 'Thursday', 'Friday', 'Saturday', 'Sunday']\n",
    "df['DayOfWeek'].value_counts().reindex(order).plot(kind='bar', figsize=(10, 4), color='steelblue')\n",
    "plt.title('Log Volume by Day of Week')\n",
    "plt.xlabel('Day')\n",
    "plt.ylabel('Event Count')\n",
    "plt.xticks(rotation=45)\n",
    "plt.tight_layout()\n",
    "plt.show()"
   ]
  },
  {
   "cell_type": "code",
   "execution_count": 13,
   "id": "bf7ff47c-f82f-4e1b-b66f-40e52ab46c63",
   "metadata": {},
   "outputs": [
    {
     "name": "stderr",
     "output_type": "stream",
     "text": [
      "/Users/leticiagomesdacostaesilva/Library/Caches/pypoetry/virtualenvs/statistics-for-data-science-el64mbOU-py3.13/lib/python3.13/site-packages/pandas/io/formats/style.py:3807: RuntimeWarning: All-NaN slice encountered\n",
      "  smin = np.nanmin(gmap) if vmin is None else vmin\n",
      "/Users/leticiagomesdacostaesilva/Library/Caches/pypoetry/virtualenvs/statistics-for-data-science-el64mbOU-py3.13/lib/python3.13/site-packages/pandas/io/formats/style.py:3808: RuntimeWarning: All-NaN slice encountered\n",
      "  smax = np.nanmax(gmap) if vmax is None else vmax\n"
     ]
    },
    {
     "data": {
      "text/html": [
       "<style type=\"text/css\">\n",
       "#T_eee81_row0_col0, #T_eee81_row9_col6 {\n",
       "  background-color: #f5fafe;\n",
       "  color: #000000;\n",
       "}\n",
       "#T_eee81_row0_col1, #T_eee81_row0_col2, #T_eee81_row0_col3, #T_eee81_row0_col4, #T_eee81_row0_col5, #T_eee81_row1_col1, #T_eee81_row1_col2, #T_eee81_row1_col3, #T_eee81_row1_col4, #T_eee81_row1_col5, #T_eee81_row2_col1, #T_eee81_row2_col2, #T_eee81_row2_col3, #T_eee81_row2_col4, #T_eee81_row2_col5, #T_eee81_row3_col1, #T_eee81_row3_col2, #T_eee81_row3_col3, #T_eee81_row3_col4, #T_eee81_row3_col5, #T_eee81_row4_col1, #T_eee81_row4_col2, #T_eee81_row4_col3, #T_eee81_row4_col4, #T_eee81_row4_col5, #T_eee81_row5_col1, #T_eee81_row5_col2, #T_eee81_row5_col3, #T_eee81_row5_col4, #T_eee81_row5_col5, #T_eee81_row6_col1, #T_eee81_row6_col2, #T_eee81_row6_col3, #T_eee81_row6_col4, #T_eee81_row6_col5, #T_eee81_row7_col1, #T_eee81_row7_col2, #T_eee81_row7_col3, #T_eee81_row7_col4, #T_eee81_row7_col5, #T_eee81_row8_col1, #T_eee81_row8_col2, #T_eee81_row8_col3, #T_eee81_row8_col4, #T_eee81_row8_col5, #T_eee81_row9_col1, #T_eee81_row9_col2, #T_eee81_row9_col3, #T_eee81_row9_col4, #T_eee81_row9_col5, #T_eee81_row10_col1, #T_eee81_row10_col2, #T_eee81_row10_col3, #T_eee81_row10_col4, #T_eee81_row10_col5, #T_eee81_row11_col1, #T_eee81_row11_col2, #T_eee81_row11_col3, #T_eee81_row11_col4, #T_eee81_row11_col5, #T_eee81_row12_col1, #T_eee81_row12_col2, #T_eee81_row12_col3, #T_eee81_row12_col4, #T_eee81_row12_col5, #T_eee81_row13_col1, #T_eee81_row13_col2, #T_eee81_row13_col3, #T_eee81_row13_col4, #T_eee81_row13_col5, #T_eee81_row14_col1, #T_eee81_row14_col2, #T_eee81_row14_col3, #T_eee81_row14_col4, #T_eee81_row14_col5, #T_eee81_row15_col1, #T_eee81_row15_col2, #T_eee81_row15_col3, #T_eee81_row15_col4, #T_eee81_row15_col5, #T_eee81_row16_col1, #T_eee81_row16_col2, #T_eee81_row16_col3, #T_eee81_row16_col4, #T_eee81_row16_col5, #T_eee81_row17_col1, #T_eee81_row17_col2, #T_eee81_row17_col3, #T_eee81_row17_col4, #T_eee81_row17_col5, #T_eee81_row18_col1, #T_eee81_row18_col2, #T_eee81_row18_col3, #T_eee81_row18_col4, #T_eee81_row18_col5 {\n",
       "  background-color: #000000;\n",
       "  color: #f1f1f1;\n",
       "}\n",
       "#T_eee81_row0_col6, #T_eee81_row1_col6, #T_eee81_row6_col0, #T_eee81_row6_col6, #T_eee81_row7_col6, #T_eee81_row8_col6, #T_eee81_row10_col6, #T_eee81_row11_col6, #T_eee81_row12_col6, #T_eee81_row16_col6, #T_eee81_row18_col0 {\n",
       "  background-color: #f7fbff;\n",
       "  color: #000000;\n",
       "}\n",
       "#T_eee81_row1_col0 {\n",
       "  background-color: #92c4de;\n",
       "  color: #000000;\n",
       "}\n",
       "#T_eee81_row2_col0 {\n",
       "  background-color: #b7d4ea;\n",
       "  color: #000000;\n",
       "}\n",
       "#T_eee81_row2_col6, #T_eee81_row17_col6 {\n",
       "  background-color: #c6dbef;\n",
       "  color: #000000;\n",
       "}\n",
       "#T_eee81_row3_col0 {\n",
       "  background-color: #d6e6f4;\n",
       "  color: #000000;\n",
       "}\n",
       "#T_eee81_row3_col6 {\n",
       "  background-color: #dae8f6;\n",
       "  color: #000000;\n",
       "}\n",
       "#T_eee81_row4_col0 {\n",
       "  background-color: #f0f6fd;\n",
       "  color: #000000;\n",
       "}\n",
       "#T_eee81_row4_col6, #T_eee81_row11_col0 {\n",
       "  background-color: #08306b;\n",
       "  color: #f1f1f1;\n",
       "}\n",
       "#T_eee81_row5_col0 {\n",
       "  background-color: #125ea6;\n",
       "  color: #f1f1f1;\n",
       "}\n",
       "#T_eee81_row5_col6 {\n",
       "  background-color: #b3d3e8;\n",
       "  color: #000000;\n",
       "}\n",
       "#T_eee81_row7_col0 {\n",
       "  background-color: #ecf4fb;\n",
       "  color: #000000;\n",
       "}\n",
       "#T_eee81_row8_col0 {\n",
       "  background-color: #0d57a1;\n",
       "  color: #f1f1f1;\n",
       "}\n",
       "#T_eee81_row9_col0 {\n",
       "  background-color: #dceaf6;\n",
       "  color: #000000;\n",
       "}\n",
       "#T_eee81_row10_col0 {\n",
       "  background-color: #d7e6f5;\n",
       "  color: #000000;\n",
       "}\n",
       "#T_eee81_row12_col0 {\n",
       "  background-color: #e9f2fa;\n",
       "  color: #000000;\n",
       "}\n",
       "#T_eee81_row13_col0 {\n",
       "  background-color: #cfe1f2;\n",
       "  color: #000000;\n",
       "}\n",
       "#T_eee81_row13_col6 {\n",
       "  background-color: #f6faff;\n",
       "  color: #000000;\n",
       "}\n",
       "#T_eee81_row14_col0 {\n",
       "  background-color: #84bcdb;\n",
       "  color: #000000;\n",
       "}\n",
       "#T_eee81_row14_col6 {\n",
       "  background-color: #c2d9ee;\n",
       "  color: #000000;\n",
       "}\n",
       "#T_eee81_row15_col0 {\n",
       "  background-color: #d2e3f3;\n",
       "  color: #000000;\n",
       "}\n",
       "#T_eee81_row15_col6 {\n",
       "  background-color: #a0cbe2;\n",
       "  color: #000000;\n",
       "}\n",
       "#T_eee81_row16_col0 {\n",
       "  background-color: #b4d3e9;\n",
       "  color: #000000;\n",
       "}\n",
       "#T_eee81_row17_col0 {\n",
       "  background-color: #e0ecf8;\n",
       "  color: #000000;\n",
       "}\n",
       "#T_eee81_row18_col6 {\n",
       "  background-color: #79b5d9;\n",
       "  color: #000000;\n",
       "}\n",
       "</style>\n",
       "<table id=\"T_eee81\">\n",
       "  <thead>\n",
       "    <tr>\n",
       "      <th class=\"index_name level0\" >DayOfWeek</th>\n",
       "      <th id=\"T_eee81_level0_col0\" class=\"col_heading level0 col0\" >Monday</th>\n",
       "      <th id=\"T_eee81_level0_col1\" class=\"col_heading level0 col1\" >Tuesday</th>\n",
       "      <th id=\"T_eee81_level0_col2\" class=\"col_heading level0 col2\" >Wednesday</th>\n",
       "      <th id=\"T_eee81_level0_col3\" class=\"col_heading level0 col3\" >Thursday</th>\n",
       "      <th id=\"T_eee81_level0_col4\" class=\"col_heading level0 col4\" >Friday</th>\n",
       "      <th id=\"T_eee81_level0_col5\" class=\"col_heading level0 col5\" >Saturday</th>\n",
       "      <th id=\"T_eee81_level0_col6\" class=\"col_heading level0 col6\" >Sunday</th>\n",
       "    </tr>\n",
       "    <tr>\n",
       "      <th class=\"index_name level0\" >Hour</th>\n",
       "      <th class=\"blank col0\" >&nbsp;</th>\n",
       "      <th class=\"blank col1\" >&nbsp;</th>\n",
       "      <th class=\"blank col2\" >&nbsp;</th>\n",
       "      <th class=\"blank col3\" >&nbsp;</th>\n",
       "      <th class=\"blank col4\" >&nbsp;</th>\n",
       "      <th class=\"blank col5\" >&nbsp;</th>\n",
       "      <th class=\"blank col6\" >&nbsp;</th>\n",
       "    </tr>\n",
       "  </thead>\n",
       "  <tbody>\n",
       "    <tr>\n",
       "      <th id=\"T_eee81_level0_row0\" class=\"row_heading level0 row0\" >1</th>\n",
       "      <td id=\"T_eee81_row0_col0\" class=\"data row0 col0\" >2</td>\n",
       "      <td id=\"T_eee81_row0_col1\" class=\"data row0 col1\" >nan</td>\n",
       "      <td id=\"T_eee81_row0_col2\" class=\"data row0 col2\" >nan</td>\n",
       "      <td id=\"T_eee81_row0_col3\" class=\"data row0 col3\" >nan</td>\n",
       "      <td id=\"T_eee81_row0_col4\" class=\"data row0 col4\" >nan</td>\n",
       "      <td id=\"T_eee81_row0_col5\" class=\"data row0 col5\" >nan</td>\n",
       "      <td id=\"T_eee81_row0_col6\" class=\"data row0 col6\" >0</td>\n",
       "    </tr>\n",
       "    <tr>\n",
       "      <th id=\"T_eee81_level0_row1\" class=\"row_heading level0 row1\" >3</th>\n",
       "      <td id=\"T_eee81_row1_col0\" class=\"data row1 col0\" >73</td>\n",
       "      <td id=\"T_eee81_row1_col1\" class=\"data row1 col1\" >nan</td>\n",
       "      <td id=\"T_eee81_row1_col2\" class=\"data row1 col2\" >nan</td>\n",
       "      <td id=\"T_eee81_row1_col3\" class=\"data row1 col3\" >nan</td>\n",
       "      <td id=\"T_eee81_row1_col4\" class=\"data row1 col4\" >nan</td>\n",
       "      <td id=\"T_eee81_row1_col5\" class=\"data row1 col5\" >nan</td>\n",
       "      <td id=\"T_eee81_row1_col6\" class=\"data row1 col6\" >0</td>\n",
       "    </tr>\n",
       "    <tr>\n",
       "      <th id=\"T_eee81_level0_row2\" class=\"row_heading level0 row2\" >4</th>\n",
       "      <td id=\"T_eee81_row2_col0\" class=\"data row2 col0\" >54</td>\n",
       "      <td id=\"T_eee81_row2_col1\" class=\"data row2 col1\" >nan</td>\n",
       "      <td id=\"T_eee81_row2_col2\" class=\"data row2 col2\" >nan</td>\n",
       "      <td id=\"T_eee81_row2_col3\" class=\"data row2 col3\" >nan</td>\n",
       "      <td id=\"T_eee81_row2_col4\" class=\"data row2 col4\" >nan</td>\n",
       "      <td id=\"T_eee81_row2_col5\" class=\"data row2 col5\" >nan</td>\n",
       "      <td id=\"T_eee81_row2_col6\" class=\"data row2 col6\" >85</td>\n",
       "    </tr>\n",
       "    <tr>\n",
       "      <th id=\"T_eee81_level0_row3\" class=\"row_heading level0 row3\" >5</th>\n",
       "      <td id=\"T_eee81_row3_col0\" class=\"data row3 col0\" >30</td>\n",
       "      <td id=\"T_eee81_row3_col1\" class=\"data row3 col1\" >nan</td>\n",
       "      <td id=\"T_eee81_row3_col2\" class=\"data row3 col2\" >nan</td>\n",
       "      <td id=\"T_eee81_row3_col3\" class=\"data row3 col3\" >nan</td>\n",
       "      <td id=\"T_eee81_row3_col4\" class=\"data row3 col4\" >nan</td>\n",
       "      <td id=\"T_eee81_row3_col5\" class=\"data row3 col5\" >nan</td>\n",
       "      <td id=\"T_eee81_row3_col6\" class=\"data row3 col6\" >50</td>\n",
       "    </tr>\n",
       "    <tr>\n",
       "      <th id=\"T_eee81_level0_row4\" class=\"row_heading level0 row4\" >6</th>\n",
       "      <td id=\"T_eee81_row4_col0\" class=\"data row4 col0\" >7</td>\n",
       "      <td id=\"T_eee81_row4_col1\" class=\"data row4 col1\" >nan</td>\n",
       "      <td id=\"T_eee81_row4_col2\" class=\"data row4 col2\" >nan</td>\n",
       "      <td id=\"T_eee81_row4_col3\" class=\"data row4 col3\" >nan</td>\n",
       "      <td id=\"T_eee81_row4_col4\" class=\"data row4 col4\" >nan</td>\n",
       "      <td id=\"T_eee81_row4_col5\" class=\"data row4 col5\" >nan</td>\n",
       "      <td id=\"T_eee81_row4_col6\" class=\"data row4 col6\" >340</td>\n",
       "    </tr>\n",
       "    <tr>\n",
       "      <th id=\"T_eee81_level0_row5\" class=\"row_heading level0 row5\" >7</th>\n",
       "      <td id=\"T_eee81_row5_col0\" class=\"data row5 col0\" >148</td>\n",
       "      <td id=\"T_eee81_row5_col1\" class=\"data row5 col1\" >nan</td>\n",
       "      <td id=\"T_eee81_row5_col2\" class=\"data row5 col2\" >nan</td>\n",
       "      <td id=\"T_eee81_row5_col3\" class=\"data row5 col3\" >nan</td>\n",
       "      <td id=\"T_eee81_row5_col4\" class=\"data row5 col4\" >nan</td>\n",
       "      <td id=\"T_eee81_row5_col5\" class=\"data row5 col5\" >nan</td>\n",
       "      <td id=\"T_eee81_row5_col6\" class=\"data row5 col6\" >105</td>\n",
       "    </tr>\n",
       "    <tr>\n",
       "      <th id=\"T_eee81_level0_row6\" class=\"row_heading level0 row6\" >8</th>\n",
       "      <td id=\"T_eee81_row6_col0\" class=\"data row6 col0\" >0</td>\n",
       "      <td id=\"T_eee81_row6_col1\" class=\"data row6 col1\" >nan</td>\n",
       "      <td id=\"T_eee81_row6_col2\" class=\"data row6 col2\" >nan</td>\n",
       "      <td id=\"T_eee81_row6_col3\" class=\"data row6 col3\" >nan</td>\n",
       "      <td id=\"T_eee81_row6_col4\" class=\"data row6 col4\" >nan</td>\n",
       "      <td id=\"T_eee81_row6_col5\" class=\"data row6 col5\" >nan</td>\n",
       "      <td id=\"T_eee81_row6_col6\" class=\"data row6 col6\" >1</td>\n",
       "    </tr>\n",
       "    <tr>\n",
       "      <th id=\"T_eee81_level0_row7\" class=\"row_heading level0 row7\" >9</th>\n",
       "      <td id=\"T_eee81_row7_col0\" class=\"data row7 col0\" >10</td>\n",
       "      <td id=\"T_eee81_row7_col1\" class=\"data row7 col1\" >nan</td>\n",
       "      <td id=\"T_eee81_row7_col2\" class=\"data row7 col2\" >nan</td>\n",
       "      <td id=\"T_eee81_row7_col3\" class=\"data row7 col3\" >nan</td>\n",
       "      <td id=\"T_eee81_row7_col4\" class=\"data row7 col4\" >nan</td>\n",
       "      <td id=\"T_eee81_row7_col5\" class=\"data row7 col5\" >nan</td>\n",
       "      <td id=\"T_eee81_row7_col6\" class=\"data row7 col6\" >1</td>\n",
       "    </tr>\n",
       "    <tr>\n",
       "      <th id=\"T_eee81_level0_row8\" class=\"row_heading level0 row8\" >10</th>\n",
       "      <td id=\"T_eee81_row8_col0\" class=\"data row8 col0\" >153</td>\n",
       "      <td id=\"T_eee81_row8_col1\" class=\"data row8 col1\" >nan</td>\n",
       "      <td id=\"T_eee81_row8_col2\" class=\"data row8 col2\" >nan</td>\n",
       "      <td id=\"T_eee81_row8_col3\" class=\"data row8 col3\" >nan</td>\n",
       "      <td id=\"T_eee81_row8_col4\" class=\"data row8 col4\" >nan</td>\n",
       "      <td id=\"T_eee81_row8_col5\" class=\"data row8 col5\" >nan</td>\n",
       "      <td id=\"T_eee81_row8_col6\" class=\"data row8 col6\" >1</td>\n",
       "    </tr>\n",
       "    <tr>\n",
       "      <th id=\"T_eee81_level0_row9\" class=\"row_heading level0 row9\" >11</th>\n",
       "      <td id=\"T_eee81_row9_col0\" class=\"data row9 col0\" >24</td>\n",
       "      <td id=\"T_eee81_row9_col1\" class=\"data row9 col1\" >nan</td>\n",
       "      <td id=\"T_eee81_row9_col2\" class=\"data row9 col2\" >nan</td>\n",
       "      <td id=\"T_eee81_row9_col3\" class=\"data row9 col3\" >nan</td>\n",
       "      <td id=\"T_eee81_row9_col4\" class=\"data row9 col4\" >nan</td>\n",
       "      <td id=\"T_eee81_row9_col5\" class=\"data row9 col5\" >nan</td>\n",
       "      <td id=\"T_eee81_row9_col6\" class=\"data row9 col6\" >3</td>\n",
       "    </tr>\n",
       "    <tr>\n",
       "      <th id=\"T_eee81_level0_row10\" class=\"row_heading level0 row10\" >12</th>\n",
       "      <td id=\"T_eee81_row10_col0\" class=\"data row10 col0\" >29</td>\n",
       "      <td id=\"T_eee81_row10_col1\" class=\"data row10 col1\" >nan</td>\n",
       "      <td id=\"T_eee81_row10_col2\" class=\"data row10 col2\" >nan</td>\n",
       "      <td id=\"T_eee81_row10_col3\" class=\"data row10 col3\" >nan</td>\n",
       "      <td id=\"T_eee81_row10_col4\" class=\"data row10 col4\" >nan</td>\n",
       "      <td id=\"T_eee81_row10_col5\" class=\"data row10 col5\" >nan</td>\n",
       "      <td id=\"T_eee81_row10_col6\" class=\"data row10 col6\" >1</td>\n",
       "    </tr>\n",
       "    <tr>\n",
       "      <th id=\"T_eee81_level0_row11\" class=\"row_heading level0 row11\" >13</th>\n",
       "      <td id=\"T_eee81_row11_col0\" class=\"data row11 col0\" >180</td>\n",
       "      <td id=\"T_eee81_row11_col1\" class=\"data row11 col1\" >nan</td>\n",
       "      <td id=\"T_eee81_row11_col2\" class=\"data row11 col2\" >nan</td>\n",
       "      <td id=\"T_eee81_row11_col3\" class=\"data row11 col3\" >nan</td>\n",
       "      <td id=\"T_eee81_row11_col4\" class=\"data row11 col4\" >nan</td>\n",
       "      <td id=\"T_eee81_row11_col5\" class=\"data row11 col5\" >nan</td>\n",
       "      <td id=\"T_eee81_row11_col6\" class=\"data row11 col6\" >1</td>\n",
       "    </tr>\n",
       "    <tr>\n",
       "      <th id=\"T_eee81_level0_row12\" class=\"row_heading level0 row12\" >14</th>\n",
       "      <td id=\"T_eee81_row12_col0\" class=\"data row12 col0\" >13</td>\n",
       "      <td id=\"T_eee81_row12_col1\" class=\"data row12 col1\" >nan</td>\n",
       "      <td id=\"T_eee81_row12_col2\" class=\"data row12 col2\" >nan</td>\n",
       "      <td id=\"T_eee81_row12_col3\" class=\"data row12 col3\" >nan</td>\n",
       "      <td id=\"T_eee81_row12_col4\" class=\"data row12 col4\" >nan</td>\n",
       "      <td id=\"T_eee81_row12_col5\" class=\"data row12 col5\" >nan</td>\n",
       "      <td id=\"T_eee81_row12_col6\" class=\"data row12 col6\" >1</td>\n",
       "    </tr>\n",
       "    <tr>\n",
       "      <th id=\"T_eee81_level0_row13\" class=\"row_heading level0 row13\" >15</th>\n",
       "      <td id=\"T_eee81_row13_col0\" class=\"data row13 col0\" >37</td>\n",
       "      <td id=\"T_eee81_row13_col1\" class=\"data row13 col1\" >nan</td>\n",
       "      <td id=\"T_eee81_row13_col2\" class=\"data row13 col2\" >nan</td>\n",
       "      <td id=\"T_eee81_row13_col3\" class=\"data row13 col3\" >nan</td>\n",
       "      <td id=\"T_eee81_row13_col4\" class=\"data row13 col4\" >nan</td>\n",
       "      <td id=\"T_eee81_row13_col5\" class=\"data row13 col5\" >nan</td>\n",
       "      <td id=\"T_eee81_row13_col6\" class=\"data row13 col6\" >2</td>\n",
       "    </tr>\n",
       "    <tr>\n",
       "      <th id=\"T_eee81_level0_row14\" class=\"row_heading level0 row14\" >16</th>\n",
       "      <td id=\"T_eee81_row14_col0\" class=\"data row14 col0\" >79</td>\n",
       "      <td id=\"T_eee81_row14_col1\" class=\"data row14 col1\" >nan</td>\n",
       "      <td id=\"T_eee81_row14_col2\" class=\"data row14 col2\" >nan</td>\n",
       "      <td id=\"T_eee81_row14_col3\" class=\"data row14 col3\" >nan</td>\n",
       "      <td id=\"T_eee81_row14_col4\" class=\"data row14 col4\" >nan</td>\n",
       "      <td id=\"T_eee81_row14_col5\" class=\"data row14 col5\" >nan</td>\n",
       "      <td id=\"T_eee81_row14_col6\" class=\"data row14 col6\" >89</td>\n",
       "    </tr>\n",
       "    <tr>\n",
       "      <th id=\"T_eee81_level0_row15\" class=\"row_heading level0 row15\" >17</th>\n",
       "      <td id=\"T_eee81_row15_col0\" class=\"data row15 col0\" >34</td>\n",
       "      <td id=\"T_eee81_row15_col1\" class=\"data row15 col1\" >nan</td>\n",
       "      <td id=\"T_eee81_row15_col2\" class=\"data row15 col2\" >nan</td>\n",
       "      <td id=\"T_eee81_row15_col3\" class=\"data row15 col3\" >nan</td>\n",
       "      <td id=\"T_eee81_row15_col4\" class=\"data row15 col4\" >nan</td>\n",
       "      <td id=\"T_eee81_row15_col5\" class=\"data row15 col5\" >nan</td>\n",
       "      <td id=\"T_eee81_row15_col6\" class=\"data row15 col6\" >125</td>\n",
       "    </tr>\n",
       "    <tr>\n",
       "      <th id=\"T_eee81_level0_row16\" class=\"row_heading level0 row16\" >18</th>\n",
       "      <td id=\"T_eee81_row16_col0\" class=\"data row16 col0\" >55</td>\n",
       "      <td id=\"T_eee81_row16_col1\" class=\"data row16 col1\" >nan</td>\n",
       "      <td id=\"T_eee81_row16_col2\" class=\"data row16 col2\" >nan</td>\n",
       "      <td id=\"T_eee81_row16_col3\" class=\"data row16 col3\" >nan</td>\n",
       "      <td id=\"T_eee81_row16_col4\" class=\"data row16 col4\" >nan</td>\n",
       "      <td id=\"T_eee81_row16_col5\" class=\"data row16 col5\" >nan</td>\n",
       "      <td id=\"T_eee81_row16_col6\" class=\"data row16 col6\" >1</td>\n",
       "    </tr>\n",
       "    <tr>\n",
       "      <th id=\"T_eee81_level0_row17\" class=\"row_heading level0 row17\" >19</th>\n",
       "      <td id=\"T_eee81_row17_col0\" class=\"data row17 col0\" >21</td>\n",
       "      <td id=\"T_eee81_row17_col1\" class=\"data row17 col1\" >nan</td>\n",
       "      <td id=\"T_eee81_row17_col2\" class=\"data row17 col2\" >nan</td>\n",
       "      <td id=\"T_eee81_row17_col3\" class=\"data row17 col3\" >nan</td>\n",
       "      <td id=\"T_eee81_row17_col4\" class=\"data row17 col4\" >nan</td>\n",
       "      <td id=\"T_eee81_row17_col5\" class=\"data row17 col5\" >nan</td>\n",
       "      <td id=\"T_eee81_row17_col6\" class=\"data row17 col6\" >86</td>\n",
       "    </tr>\n",
       "    <tr>\n",
       "      <th id=\"T_eee81_level0_row18\" class=\"row_heading level0 row18\" >20</th>\n",
       "      <td id=\"T_eee81_row18_col0\" class=\"data row18 col0\" >0</td>\n",
       "      <td id=\"T_eee81_row18_col1\" class=\"data row18 col1\" >nan</td>\n",
       "      <td id=\"T_eee81_row18_col2\" class=\"data row18 col2\" >nan</td>\n",
       "      <td id=\"T_eee81_row18_col3\" class=\"data row18 col3\" >nan</td>\n",
       "      <td id=\"T_eee81_row18_col4\" class=\"data row18 col4\" >nan</td>\n",
       "      <td id=\"T_eee81_row18_col5\" class=\"data row18 col5\" >nan</td>\n",
       "      <td id=\"T_eee81_row18_col6\" class=\"data row18 col6\" >159</td>\n",
       "    </tr>\n",
       "  </tbody>\n",
       "</table>\n"
      ],
      "text/plain": [
       "<pandas.io.formats.style.Styler at 0x1205f0050>"
      ]
     },
     "execution_count": 13,
     "metadata": {},
     "output_type": "execute_result"
    }
   ],
   "source": [
    "log_pivot = pd.crosstab(df['Hour'], df['DayOfWeek']).reindex(columns=order)\n",
    "log_pivot.style.background_gradient(cmap='Blues').format('{:,.0f}')"
   ]
  },
  {
   "cell_type": "markdown",
   "id": "a9bb781e-6860-4231-91f4-9eb95999b5a6",
   "metadata": {},
   "source": [
    "**Sunday**\n",
    "    \n",
    "- Highest volume of events between 6 am and 8 pm, with clear peaks at 6 am (340 events), 5 pm (125 events) and 8 pm (159 events).\n",
    "- This may indicate automated or user activity concentrated during non-business hours.\n",
    "- From 8 am onwards, the frequency remains low but constant until the end of the day, suggesting possible degradation or reactive monitoring.\n",
    "\n",
    "**Monday**\n",
    "- Peak in records occurs at 1 pm (180 events) and 10 am (153 events), typical of an environment where workloads resume after the weekend.\n",
    "- The bands between 3 am and 7 am also show significant activity, possibly reflecting nighttime routines, scripts or scheduled infrastructure tasks.\n",
    "- This distribution is consistent with production environments starting operations throughout the morning."
   ]
  },
  {
   "cell_type": "markdown",
   "id": "5c7efc01-3c96-4bad-8e11-189f6cc59538",
   "metadata": {},
   "source": [
    "###### Limitations"
   ]
  },
  {
   "cell_type": "markdown",
   "id": "056f0963-7916-49a8-ad52-dfcaf0e58a9c",
   "metadata": {},
   "source": [
    "- This is a highly cropped dataset — likely created as a controlled or representative sample for benchmarking, research, or testing log analysis tools.\n",
    "- The absence of other days compromises broader temporal analyses"
   ]
  },
  {
   "cell_type": "markdown",
   "id": "b389f605-65e0-4cde-b9e2-38a96083768f",
   "metadata": {},
   "source": [
    "###### Final Considerations"
   ]
  },
  {
   "cell_type": "markdown",
   "id": "21039a15-6297-4ffb-8ad3-e056c4f348ce",
   "metadata": {},
   "source": [
    "The exploratory analysis of the structured Apache logs from the LogHub project reveals a dataset with rich logging patterns concentrated over a short time window. Although temporally limited, the data offers meaningful insights into system behavior, event severity, and workload distribution.\n",
    "\n",
    "**Temporal Scope**\n",
    "- The dataset spans only **two days** — December 4 and 5 — making it **temporally narrow**, yet dense in activity.\n",
    "- Logs are restricted to **Sunday and Monday**, limiting weekly continuity but allowing for daily behavioral analysis.\n",
    "- Activity is concentrated in the **early morning and late afternoon**, with spikes suggesting scheduled jobs or critical workflows.\n",
    "\n",
    "**Event Levels**\n",
    "- Two severity levels are present: `notice` and `error`.\n",
    "- `notice` events dominate (~1400), indicating normal operational messages and lifecycle updates.\n",
    "- `error` events are also frequent (~600), reflecting system faults or misconfigurations.\n",
    "- This distribution supports both baseline behavior modeling and failure scenario exploration.\n",
    "\n",
    "**Structural Patterns**\n",
    "- The `EventTemplate` field reveals recurring patterns in log messages, valuable for clustering and anomaly detection.\n",
    "- Logs include precise timestamps, enabling temporal aggregation and visualizations by hour, day of week, and month.\n",
    "\n",
    "**Visual and Tabular Findings**\n",
    "- Bar charts of error and notice events over hours, days of the week, and across December indicate **structured, periodic activity**.\n",
    "- A pivot table summarizing log frequency by hour and weekday identifies workload rhythms and potential time-based issues.\n",
    "\n",
    "**Conclusions**\n",
    "\n",
    "Despite its limited duration, this dataset simulates a realistic Apache environment, providing fertile ground for:\n",
    "- Understanding infrastructure event behavior\n",
    "- Studying operational load distributions\n",
    "- Exploring anomaly detection and pattern mining\n",
    "\n",
    "The clarity of log templates and presence of error signals make this a valuable resource for statistical modeling, reliability engineering, and AI-based log analytics."
   ]
  }
 ],
 "metadata": {
  "kernelspec": {
   "display_name": "Python 3 (ipykernel)",
   "language": "python",
   "name": "python3"
  },
  "language_info": {
   "codemirror_mode": {
    "name": "ipython",
    "version": 3
   },
   "file_extension": ".py",
   "mimetype": "text/x-python",
   "name": "python",
   "nbconvert_exporter": "python",
   "pygments_lexer": "ipython3",
   "version": "3.13.2"
  }
 },
 "nbformat": 4,
 "nbformat_minor": 5
}
