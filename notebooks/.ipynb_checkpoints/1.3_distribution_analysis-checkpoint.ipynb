{
 "cells": [
  {
   "cell_type": "markdown",
   "id": "3f20f225",
   "metadata": {},
   "source": [
    "# Chapter 1"
   ]
  },
  {
   "cell_type": "markdown",
   "id": "1b41cdee",
   "metadata": {},
   "source": [
    "## 1.3 Distribution Analysis"
   ]
  },
  {
   "cell_type": "markdown",
   "id": "010b5d0e",
   "metadata": {},
   "source": [
    "### Context and Motivation\n",
    "\n",
    "Understanding the shape of a data distribution is fundamental in statistics, especially when interpreting system logs and operational telemetry. \n",
    "Distributions reveal patterns such as central mass, skewness, heavy tails, and modality — all of which can indicate either expected variability or early signs of system instability.\n",
    "\n",
    "In this notebook, we continue exploring the Apache logs used in Days 1 and 2, focusing on **visual and statistical analysis of distributions**.\n"
   ]
  },
  {
   "cell_type": "markdown",
   "id": "40b5681f",
   "metadata": {},
   "source": [
    "### 1.3.1 Dataset Overview"
   ]
  },
  {
   "cell_type": "code",
   "execution_count": null,
   "id": "15d5deb1",
   "metadata": {},
   "outputs": [],
   "source": [
    "import pandas as pd\n",
    "import matplotlib.pyplot as plt\n",
    "import seaborn as sns\n",
    "import numpy as np\n",
    "\n",
    "sns.set(style='whitegrid')\n",
    "\n",
    "url = \"https://raw.githubusercontent.com/logpai/loghub/refs/heads/master/Apache/Apache_2k.log_structured.csv\"\n",
    "df = pd.read_csv(url)\n",
    "df['Time_parsed'] = pd.to_datetime(df['Time'], errors='coerce')\n",
    "df['Hour'] = df['Time_parsed'].dt.hour\n",
    "df['DayOfWeek'] = df['Time_parsed'].dt.day_name()\n",
    "df.head()"
   ]
  },
  {
   "cell_type": "markdown",
   "id": "5c54096b",
   "metadata": {},
   "source": [
    "### 1.3.2 Distribution of Log Volume per Hour"
   ]
  },
  {
   "cell_type": "code",
   "execution_count": null,
   "id": "e240ea62",
   "metadata": {},
   "outputs": [],
   "source": [
    "hourly_counts = df['Hour'].value_counts().sort_index()\n",
    "hourly_counts.describe()"
   ]
  },
  {
   "cell_type": "code",
   "execution_count": null,
   "id": "f40e9e78",
   "metadata": {},
   "outputs": [],
   "source": [
    "plt.figure(figsize=(10, 5))\n",
    "sns.histplot(hourly_counts, bins=12, kde=True, color='cornflowerblue')\n",
    "plt.title(\"Distribution of Log Volume per Hour\")\n",
    "plt.xlabel(\"Event Count per Hour\")\n",
    "plt.ylabel(\"Frequency\")\n",
    "plt.show()"
   ]
  },
  {
   "cell_type": "code",
   "execution_count": null,
   "id": "0a524361",
   "metadata": {},
   "outputs": [],
   "source": [
    "plt.figure(figsize=(10, 5))\n",
    "sns.kdeplot(hourly_counts, fill=True, linewidth=2, color='slateblue')\n",
    "plt.title(\"Kernel Density Estimate (KDE) — Hourly Log Volume\")\n",
    "plt.xlabel(\"Log Volume\")\n",
    "plt.ylabel(\"Density\")\n",
    "plt.show()"
   ]
  },
  {
   "cell_type": "code",
   "execution_count": null,
   "id": "b99d7912",
   "metadata": {},
   "outputs": [],
   "source": [
    "plt.figure(figsize=(10, 2))\n",
    "sns.boxplot(x=hourly_counts, color='tomato')\n",
    "plt.title(\"Boxplot — Hourly Log Volume\")\n",
    "plt.xlabel(\"Log Volume\")\n",
    "plt.show()"
   ]
  },
  {
   "cell_type": "markdown",
   "id": "02867187",
   "metadata": {},
   "source": [
    "### 1.3.3 Tail Behavior & Outlier Detection"
   ]
  },
  {
   "cell_type": "code",
   "execution_count": null,
   "id": "69ccc927",
   "metadata": {},
   "outputs": [],
   "source": [
    "q1 = hourly_counts.quantile(0.25)\n",
    "q3 = hourly_counts.quantile(0.75)\n",
    "iqr = q3 - q1\n",
    "upper_fence = q3 + 1.5 * iqr\n",
    "\n",
    "outliers = hourly_counts[hourly_counts > upper_fence]\n",
    "outliers"
   ]
  },
  {
   "cell_type": "markdown",
   "id": "8a5845b2",
   "metadata": {},
   "source": [
    "Outliers above the upper whisker suggest **exceptional log activity**, which may signal unusual workload, failure spikes, or logging anomalies.\n"
   ]
  },
  {
   "cell_type": "markdown",
   "id": "0cbb783e",
   "metadata": {},
   "source": [
    "### 1.3.4 Final Considerations"
   ]
  },
  {
   "cell_type": "markdown",
   "id": "1bb397df",
   "metadata": {},
   "source": [
    "Distributions help uncover the nature of system behavior:\n",
    "\n",
    "- A **right-skewed distribution** suggests rare but intense events.\n",
    "- **Outliers** can be precursors to failures or reveal uneven usage.\n",
    "- **KDEs and boxplots** provide compact, powerful ways to visualize spread, center, and anomalies.\n",
    "\n",
    "This understanding will support more accurate thresholds, expectations, and future hypothesis testing in the next chapters.\n"
   ]
  }
 ],
 "metadata": {
  "language_info": {
   "name": "python"
  }
 },
 "nbformat": 4,
 "nbformat_minor": 5
}
