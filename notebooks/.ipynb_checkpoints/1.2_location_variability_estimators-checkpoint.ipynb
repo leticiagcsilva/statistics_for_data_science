{
 "cells": [
  {
   "cell_type": "markdown",
   "id": "758459b1",
   "metadata": {},
   "source": [
    "# Chapter 1"
   ]
  },
  {
   "cell_type": "markdown",
   "id": "e47fd508-43d6-4858-94fc-19fcf1b696c7",
   "metadata": {},
   "source": [
    "## 1.2 Location and Variability Estimators"
   ]
  },
  {
   "cell_type": "markdown",
   "id": "86818896",
   "metadata": {},
   "source": [
    "### Context and Motivation\n",
    "\n",
    "Understanding how system metrics vary over time is critical for ensuring reliability and performance in production environments. \n",
    "This notebook focuses on statistical estimators of central tendency (mean, median) and dispersion (standard deviation, IQR, percentiles).\n",
    "\n",
    "We apply these estimators to real-world logs from the [Apache LogHub dataset](https://github.com/logpai/loghub), \n",
    "analyzing hourly log volumes as a proxy for workload intensity and system activity.\n"
   ]
  },
  {
   "cell_type": "markdown",
   "id": "e0169167",
   "metadata": {},
   "source": [
    "### 1.2.1 Dataset Overview"
   ]
  },
  {
   "cell_type": "code",
   "execution_count": 1,
   "id": "de8b31d6",
   "metadata": {},
   "outputs": [
    {
     "data": {
      "text/html": [
       "<div>\n",
       "<style scoped>\n",
       "    .dataframe tbody tr th:only-of-type {\n",
       "        vertical-align: middle;\n",
       "    }\n",
       "\n",
       "    .dataframe tbody tr th {\n",
       "        vertical-align: top;\n",
       "    }\n",
       "\n",
       "    .dataframe thead th {\n",
       "        text-align: right;\n",
       "    }\n",
       "</style>\n",
       "<table border=\"1\" class=\"dataframe\">\n",
       "  <thead>\n",
       "    <tr style=\"text-align: right;\">\n",
       "      <th></th>\n",
       "      <th>LineId</th>\n",
       "      <th>Time</th>\n",
       "      <th>Level</th>\n",
       "      <th>Content</th>\n",
       "      <th>EventId</th>\n",
       "      <th>EventTemplate</th>\n",
       "    </tr>\n",
       "  </thead>\n",
       "  <tbody>\n",
       "    <tr>\n",
       "      <th>0</th>\n",
       "      <td>1</td>\n",
       "      <td>Sun Dec 04 04:47:44 2005</td>\n",
       "      <td>notice</td>\n",
       "      <td>workerEnv.init() ok /etc/httpd/conf/workers2.p...</td>\n",
       "      <td>E2</td>\n",
       "      <td>workerEnv.init() ok &lt;*&gt;</td>\n",
       "    </tr>\n",
       "    <tr>\n",
       "      <th>1</th>\n",
       "      <td>2</td>\n",
       "      <td>Sun Dec 04 04:47:44 2005</td>\n",
       "      <td>error</td>\n",
       "      <td>mod_jk child workerEnv in error state 6</td>\n",
       "      <td>E3</td>\n",
       "      <td>mod_jk child workerEnv in error state &lt;*&gt;</td>\n",
       "    </tr>\n",
       "    <tr>\n",
       "      <th>2</th>\n",
       "      <td>3</td>\n",
       "      <td>Sun Dec 04 04:51:08 2005</td>\n",
       "      <td>notice</td>\n",
       "      <td>jk2_init() Found child 6725 in scoreboard slot 10</td>\n",
       "      <td>E1</td>\n",
       "      <td>jk2_init() Found child &lt;*&gt; in scoreboard slot &lt;*&gt;</td>\n",
       "    </tr>\n",
       "    <tr>\n",
       "      <th>3</th>\n",
       "      <td>4</td>\n",
       "      <td>Sun Dec 04 04:51:09 2005</td>\n",
       "      <td>notice</td>\n",
       "      <td>jk2_init() Found child 6726 in scoreboard slot 8</td>\n",
       "      <td>E1</td>\n",
       "      <td>jk2_init() Found child &lt;*&gt; in scoreboard slot &lt;*&gt;</td>\n",
       "    </tr>\n",
       "    <tr>\n",
       "      <th>4</th>\n",
       "      <td>5</td>\n",
       "      <td>Sun Dec 04 04:51:09 2005</td>\n",
       "      <td>notice</td>\n",
       "      <td>jk2_init() Found child 6728 in scoreboard slot 6</td>\n",
       "      <td>E1</td>\n",
       "      <td>jk2_init() Found child &lt;*&gt; in scoreboard slot &lt;*&gt;</td>\n",
       "    </tr>\n",
       "  </tbody>\n",
       "</table>\n",
       "</div>"
      ],
      "text/plain": [
       "   LineId                      Time   Level  \\\n",
       "0       1  Sun Dec 04 04:47:44 2005  notice   \n",
       "1       2  Sun Dec 04 04:47:44 2005   error   \n",
       "2       3  Sun Dec 04 04:51:08 2005  notice   \n",
       "3       4  Sun Dec 04 04:51:09 2005  notice   \n",
       "4       5  Sun Dec 04 04:51:09 2005  notice   \n",
       "\n",
       "                                             Content EventId  \\\n",
       "0  workerEnv.init() ok /etc/httpd/conf/workers2.p...      E2   \n",
       "1            mod_jk child workerEnv in error state 6      E3   \n",
       "2  jk2_init() Found child 6725 in scoreboard slot 10      E1   \n",
       "3   jk2_init() Found child 6726 in scoreboard slot 8      E1   \n",
       "4   jk2_init() Found child 6728 in scoreboard slot 6      E1   \n",
       "\n",
       "                                       EventTemplate  \n",
       "0                            workerEnv.init() ok <*>  \n",
       "1          mod_jk child workerEnv in error state <*>  \n",
       "2  jk2_init() Found child <*> in scoreboard slot <*>  \n",
       "3  jk2_init() Found child <*> in scoreboard slot <*>  \n",
       "4  jk2_init() Found child <*> in scoreboard slot <*>  "
      ]
     },
     "execution_count": 1,
     "metadata": {},
     "output_type": "execute_result"
    }
   ],
   "source": [
    "import pandas as pd\n",
    "import matplotlib.pyplot as plt\n",
    "import seaborn as sns\n",
    "from scipy.stats import trim_mean\n",
    "\n",
    "sns.set(style='whitegrid')\n",
    "\n",
    "url = \"https://raw.githubusercontent.com/logpai/loghub/refs/heads/master/Apache/Apache_2k.log_structured.csv\"\n",
    "df = pd.read_csv(url)\n",
    "df.head()"
   ]
  },
  {
   "cell_type": "code",
   "execution_count": 2,
   "id": "7212c451",
   "metadata": {},
   "outputs": [
    {
     "name": "stdout",
     "output_type": "stream",
     "text": [
      "<class 'pandas.core.frame.DataFrame'>\n",
      "RangeIndex: 2000 entries, 0 to 1999\n",
      "Data columns (total 6 columns):\n",
      " #   Column         Non-Null Count  Dtype \n",
      "---  ------         --------------  ----- \n",
      " 0   LineId         2000 non-null   int64 \n",
      " 1   Time           2000 non-null   object\n",
      " 2   Level          2000 non-null   object\n",
      " 3   Content        2000 non-null   object\n",
      " 4   EventId        2000 non-null   object\n",
      " 5   EventTemplate  2000 non-null   object\n",
      "dtypes: int64(1), object(5)\n",
      "memory usage: 93.9+ KB\n"
     ]
    }
   ],
   "source": [
    "df.info()"
   ]
  },
  {
   "cell_type": "markdown",
   "id": "8dc088ff",
   "metadata": {},
   "source": [
    "### 1.2.2 Initial Data Inspection"
   ]
  },
  {
   "cell_type": "code",
   "execution_count": 3,
   "id": "41572736",
   "metadata": {},
   "outputs": [
    {
     "data": {
      "text/html": [
       "<div>\n",
       "<style scoped>\n",
       "    .dataframe tbody tr th:only-of-type {\n",
       "        vertical-align: middle;\n",
       "    }\n",
       "\n",
       "    .dataframe tbody tr th {\n",
       "        vertical-align: top;\n",
       "    }\n",
       "\n",
       "    .dataframe thead th {\n",
       "        text-align: right;\n",
       "    }\n",
       "</style>\n",
       "<table border=\"1\" class=\"dataframe\">\n",
       "  <thead>\n",
       "    <tr style=\"text-align: right;\">\n",
       "      <th></th>\n",
       "      <th>Time</th>\n",
       "      <th>Time_parsed</th>\n",
       "      <th>Hour</th>\n",
       "      <th>DayOfWeek</th>\n",
       "    </tr>\n",
       "  </thead>\n",
       "  <tbody>\n",
       "    <tr>\n",
       "      <th>0</th>\n",
       "      <td>Sun Dec 04 04:47:44 2005</td>\n",
       "      <td>2005-12-04 04:47:44</td>\n",
       "      <td>4</td>\n",
       "      <td>Sunday</td>\n",
       "    </tr>\n",
       "    <tr>\n",
       "      <th>1</th>\n",
       "      <td>Sun Dec 04 04:47:44 2005</td>\n",
       "      <td>2005-12-04 04:47:44</td>\n",
       "      <td>4</td>\n",
       "      <td>Sunday</td>\n",
       "    </tr>\n",
       "    <tr>\n",
       "      <th>2</th>\n",
       "      <td>Sun Dec 04 04:51:08 2005</td>\n",
       "      <td>2005-12-04 04:51:08</td>\n",
       "      <td>4</td>\n",
       "      <td>Sunday</td>\n",
       "    </tr>\n",
       "    <tr>\n",
       "      <th>3</th>\n",
       "      <td>Sun Dec 04 04:51:09 2005</td>\n",
       "      <td>2005-12-04 04:51:09</td>\n",
       "      <td>4</td>\n",
       "      <td>Sunday</td>\n",
       "    </tr>\n",
       "    <tr>\n",
       "      <th>4</th>\n",
       "      <td>Sun Dec 04 04:51:09 2005</td>\n",
       "      <td>2005-12-04 04:51:09</td>\n",
       "      <td>4</td>\n",
       "      <td>Sunday</td>\n",
       "    </tr>\n",
       "  </tbody>\n",
       "</table>\n",
       "</div>"
      ],
      "text/plain": [
       "                       Time         Time_parsed  Hour DayOfWeek\n",
       "0  Sun Dec 04 04:47:44 2005 2005-12-04 04:47:44     4    Sunday\n",
       "1  Sun Dec 04 04:47:44 2005 2005-12-04 04:47:44     4    Sunday\n",
       "2  Sun Dec 04 04:51:08 2005 2005-12-04 04:51:08     4    Sunday\n",
       "3  Sun Dec 04 04:51:09 2005 2005-12-04 04:51:09     4    Sunday\n",
       "4  Sun Dec 04 04:51:09 2005 2005-12-04 04:51:09     4    Sunday"
      ]
     },
     "execution_count": 3,
     "metadata": {},
     "output_type": "execute_result"
    }
   ],
   "source": [
    "df['Time_parsed'] = pd.to_datetime(df['Time'], errors='coerce')\n",
    "df['Hour'] = df['Time_parsed'].dt.hour\n",
    "df['DayOfWeek'] = df['Time_parsed'].dt.day_name()\n",
    "df[['Time', 'Time_parsed', 'Hour', 'DayOfWeek']].head()"
   ]
  },
  {
   "cell_type": "markdown",
   "id": "139fe43f",
   "metadata": {},
   "source": [
    "### 1.2.3 Exploratory Analysis"
   ]
  },
  {
   "cell_type": "markdown",
   "id": "c69ba1e2-a75d-41e8-800b-9ff7a321903a",
   "metadata": {},
   "source": [
    "#### 1.2.3.1 Log Volume per Hour"
   ]
  },
  {
   "cell_type": "code",
   "execution_count": 4,
   "id": "51be51b0",
   "metadata": {},
   "outputs": [
    {
     "data": {
      "text/plain": [
       "Hour\n",
       "1       2\n",
       "3      73\n",
       "4     139\n",
       "5      80\n",
       "6     347\n",
       "7     253\n",
       "8       1\n",
       "9      11\n",
       "10    154\n",
       "11     27\n",
       "12     30\n",
       "13    181\n",
       "14     14\n",
       "15     39\n",
       "16    168\n",
       "17    159\n",
       "18     56\n",
       "19    107\n",
       "20    159\n",
       "Name: count, dtype: int64"
      ]
     },
     "execution_count": 4,
     "metadata": {},
     "output_type": "execute_result"
    }
   ],
   "source": [
    "hourly_counts = df['Hour'].value_counts().sort_index()\n",
    "hourly_counts"
   ]
  },
  {
   "cell_type": "code",
   "execution_count": 5,
   "id": "95fdb7ce",
   "metadata": {},
   "outputs": [
    {
     "data": {
      "image/png": "[encoded data removed]",
      "text/plain": [
       "<Figure size 1000x500 with 1 Axes>"
      ]
     },
     "metadata": {},
     "output_type": "display_data"
    }
   ],
   "source": [
    "plt.figure(figsize=(10, 5))\n",
    "sns.histplot(hourly_counts, bins=12, kde=True, color='cornflowerblue')\n",
    "plt.title(\"Distribution of Log Volume per Hour\")\n",
    "plt.xlabel(\"Event Count per Hour\")\n",
    "plt.ylabel(\"Frequency\")\n",
    "plt.show()"
   ]
  },
  {
   "cell_type": "code",
   "execution_count": 6,
   "id": "4078f69e",
   "metadata": {},
   "outputs": [
    {
     "data": {
      "image/png": "[encoded data removed]",
      "text/plain": [
       "<Figure size 800x200 with 1 Axes>"
      ]
     },
     "metadata": {},
     "output_type": "display_data"
    }
   ],
   "source": [
    "plt.figure(figsize=(8, 2))\n",
    "sns.boxplot(x=hourly_counts, color='lightcoral')\n",
    "plt.title(\"Boxplot of Log Volume per Hour\")\n",
    "plt.xlabel(\"Event Count\")\n",
    "plt.show()"
   ]
  },
  {
   "cell_type": "markdown",
   "id": "a641a8ae",
   "metadata": {},
   "source": [
    "### 1.2.4 Statistical Summary"
   ]
  },
  {
   "cell_type": "code",
   "execution_count": 7,
   "id": "9d1c0f98",
   "metadata": {},
   "outputs": [
    {
     "name": "stdout",
     "output_type": "stream",
     "text": [
      "Mean: 105.26\n",
      "Median: 80.00\n",
      "Standard Deviation: 93.77\n",
      "IQR: 130.5\n",
      "Trimmed Mean (10%): 97.18\n",
      "95th Percentile: 262.3999999999998\n"
     ]
    }
   ],
   "source": [
    "mean_ = hourly_counts.mean()\n",
    "median_ = hourly_counts.median()\n",
    "std_ = hourly_counts.std()\n",
    "iqr = hourly_counts.quantile(0.75) - hourly_counts.quantile(0.25)\n",
    "trimmed = trim_mean(hourly_counts, 0.1)\n",
    "p95 = hourly_counts.quantile(0.95)\n",
    "\n",
    "print(f\"Mean: {mean_:.2f}\")\n",
    "print(f\"Median: {median_:.2f}\")\n",
    "print(f\"Standard Deviation: {std_:.2f}\")\n",
    "print(f\"IQR: {iqr}\")\n",
    "print(f\"Trimmed Mean (10%): {trimmed:.2f}\")\n",
    "print(f\"95th Percentile: {p95}\")"
   ]
  },
  {
   "cell_type": "markdown",
   "id": "39a4dfeb",
   "metadata": {},
   "source": [
    "#### 1.2.4.1 Interpretation"
   ]
  },
  {
   "cell_type": "markdown",
   "id": "7ac5d4a1",
   "metadata": {},
   "source": [
    "The statistical summary derived from Apache log volumes per hour reveals operational insights that are essential for platform reliability engineering.\n",
    "\n",
    "**Skewness and Outliers**\n",
    "\n",
    "- The mean (105.26) is significantly higher than the median (80), indicating a **right-skewed distribution**.\n",
    "- This suggests that a **few hours experience very high event counts**, pulling the average up.\n",
    "- These spikes could correspond to:\n",
    "  - Scheduled maintenance\n",
    "  - High usage windows\n",
    "  - Faults producing excessive log noise\n",
    "\n",
    "**Variability and Dispersion**\n",
    "\n",
    "- The **standard deviation (93.77)** and **interquartile range (130.5)** confirm that the data is **not tightly clustered** — log volumes vary heavily across hours.\n",
    "- Variability is **not confined to extreme cases**; even the core of the distribution (the IQR) is wide.\n",
    "\n",
    "**Robust Estimators**\n",
    "\n",
    "- The **trimmed mean (97.18)** provides a stable estimate by removing the top and bottom 10% of values — this helps summarize typical behavior.\n",
    "- The **95th percentile (262.4)** defines the upper limit for what is considered “normal” in most production scenarios.\n",
    "  - Any hour exceeding this threshold can be treated as a **candidate for alerting or anomaly review**.\n",
    "\n",
    "**SRE and Engineering Implications**\n",
    "\n",
    "| Estimator         | Operational Use Case                                       |\n",
    "|-------------------|------------------------------------------------------------|\n",
    "| Median            | SLO definition, central tendency under load                |\n",
    "| Trimmed Mean      | Management dashboards, avoids reacting to spikes           |\n",
    "| Std Dev / IQR     | Alert thresholds, release monitoring, capacity planning    |\n",
    "| 95th Percentile   | High-load scenarios, alert tuning, long-tail behavior      |\n",
    "\n",
    "**Result**\n",
    "\n",
    "Understanding system behavior through robust statistical estimators allows for better engineering decisions, more resilient monitoring thresholds, and stronger interpretations of platform load patterns. \n",
    "This type of variability analysis is fundamental in designing systems that are observable and reliable at scale."
   ]
  },
  {
   "cell_type": "markdown",
   "id": "469f5549",
   "metadata": {},
   "source": [
    "### 1.2.5 Final Considerations"
   ]
  },
  {
   "cell_type": "markdown",
   "id": "52df4230",
   "metadata": {},
   "source": [
    "Using robust statistical estimators such as **median**, **trimmed mean**, **IQR**, and **p95** is fundamental in SRE and platform monitoring.\n",
    "\n",
    "They allow us to:\n",
    "- Detect and explain irregular workload behavior\n",
    "- Set realistic and resilient alert thresholds\n",
    "- Track operational patterns under noisy or non-normal distributions\n",
    "\n",
    "This analysis lays the foundation for applying thresholds and variability metrics in real-world observability systems.\n"
   ]
  }
 ],
 "metadata": {
  "kernelspec": {
   "display_name": "Python 3 (ipykernel)",
   "language": "python",
   "name": "python3"
  },
  "language_info": {
   "codemirror_mode": {
    "name": "ipython",
    "version": 3
   },
   "file_extension": ".py",
   "mimetype": "text/x-python",
   "name": "python",
   "nbconvert_exporter": "python",
   "pygments_lexer": "ipython3",
   "version": "3.13.2"
  }
 },
 "nbformat": 4,
 "nbformat_minor": 5
}
