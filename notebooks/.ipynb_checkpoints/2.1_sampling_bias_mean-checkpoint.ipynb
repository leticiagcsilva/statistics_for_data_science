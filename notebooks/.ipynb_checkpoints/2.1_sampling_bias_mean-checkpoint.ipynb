{
 "cells": [
  {
   "cell_type": "markdown",
   "id": "2181a514",
   "metadata": {},
   "source": [
    "# Chapter 2 — Sampling, Bias, and the Nature of Data"
   ]
  },
  {
   "cell_type": "markdown",
   "id": "b10b8a79",
   "metadata": {},
   "source": [
    "## Introduction \n",
    "\n",
    "Today marks the start of Chapter 2 from *Practical Statistics for Data Scientists*. This chapter introduces core statistical concepts that guide how we collect, represent, and interpret data before diving into inference.\n",
    "\n",
    "My goal today is to explore:\n",
    "\n",
    "- What makes a good sample\n",
    "- How bias distorts our view of the data\n",
    "- The difference between sample and population means\n",
    "- Why extreme events tend to \"regress to the mean\"\n",
    "\n",
    "To make the analysis more relevant, I’ll use **real-world complaint data** from the Brazilian electricity sector (ANEEL), accessed via their public API.\n",
    "\n",
    "This provides a fresh dataset that complements the Apache logs used in previous chapters."
   ]
  },
  {
   "cell_type": "markdown",
   "id": "28259303",
   "metadata": {},
   "source": [
    "## 2.1.1 Importing Complaint Data from ANEEL (via API)"
   ]
  },
  {
   "cell_type": "code",
   "execution_count": 1,
   "id": "b32a2533",
   "metadata": {},
   "outputs": [
    {
     "data": {
      "text/html": [
       "<div>\n",
       "<style scoped>\n",
       "    .dataframe tbody tr th:only-of-type {\n",
       "        vertical-align: middle;\n",
       "    }\n",
       "\n",
       "    .dataframe tbody tr th {\n",
       "        vertical-align: top;\n",
       "    }\n",
       "\n",
       "    .dataframe thead th {\n",
       "        text-align: right;\n",
       "    }\n",
       "</style>\n",
       "<table border=\"1\" class=\"dataframe\">\n",
       "  <thead>\n",
       "    <tr style=\"text-align: right;\">\n",
       "      <th></th>\n",
       "      <th>_id</th>\n",
       "      <th>DatGeracaoConjuntoDados</th>\n",
       "      <th>DatReferencia</th>\n",
       "      <th>SigAgente</th>\n",
       "      <th>NumCPFCNPJ</th>\n",
       "      <th>CodMunicipio</th>\n",
       "      <th>NomMunicipio</th>\n",
       "      <th>SigUF</th>\n",
       "      <th>SigRegiao</th>\n",
       "      <th>NomClassificacaoAgente</th>\n",
       "      <th>CodTipoReclamacao</th>\n",
       "      <th>NomCanalReclamacao</th>\n",
       "      <th>DescReclamacao</th>\n",
       "      <th>QtdReclamacoesRecebidas</th>\n",
       "      <th>QtdReclamacoesImprocedentes</th>\n",
       "      <th>QtdReclamacoesProcedentes</th>\n",
       "      <th>NumPrazoMedioSolucao</th>\n",
       "      <th>DscFormaContato</th>\n",
       "      <th>NumOuvPrazoMedioSolucaoImproc</th>\n",
       "      <th>NumSacPrazoMedioSolucaoImproc</th>\n",
       "    </tr>\n",
       "  </thead>\n",
       "  <tbody>\n",
       "    <tr>\n",
       "      <th>0</th>\n",
       "      <td>1</td>\n",
       "      <td>2025-04-15</td>\n",
       "      <td>2010-01-01</td>\n",
       "      <td>Amazonas Energia</td>\n",
       "      <td>02341467000120</td>\n",
       "      <td></td>\n",
       "      <td></td>\n",
       "      <td>AM</td>\n",
       "      <td>N</td>\n",
       "      <td>Concessionária</td>\n",
       "      <td>17</td>\n",
       "      <td>Nível 1</td>\n",
       "      <td>Outros</td>\n",
       "      <td>16</td>\n",
       "      <td>2</td>\n",
       "      <td>14</td>\n",
       "      <td>4,02</td>\n",
       "      <td></td>\n",
       "      <td></td>\n",
       "      <td></td>\n",
       "    </tr>\n",
       "    <tr>\n",
       "      <th>1</th>\n",
       "      <td>2</td>\n",
       "      <td>2025-04-15</td>\n",
       "      <td>2010-01-01</td>\n",
       "      <td>Amazonas Energia</td>\n",
       "      <td>02341467000120</td>\n",
       "      <td></td>\n",
       "      <td></td>\n",
       "      <td>AM</td>\n",
       "      <td>N</td>\n",
       "      <td>Concessionária</td>\n",
       "      <td>16</td>\n",
       "      <td>Nível 1</td>\n",
       "      <td>Problemas de instalação interna na unidade con...</td>\n",
       "      <td>0</td>\n",
       "      <td>0</td>\n",
       "      <td>0</td>\n",
       "      <td>,00</td>\n",
       "      <td></td>\n",
       "      <td></td>\n",
       "      <td></td>\n",
       "    </tr>\n",
       "    <tr>\n",
       "      <th>2</th>\n",
       "      <td>3</td>\n",
       "      <td>2025-04-15</td>\n",
       "      <td>2010-01-01</td>\n",
       "      <td>Amazonas Energia</td>\n",
       "      <td>02341467000120</td>\n",
       "      <td></td>\n",
       "      <td></td>\n",
       "      <td>AM</td>\n",
       "      <td>N</td>\n",
       "      <td>Concessionária</td>\n",
       "      <td>3</td>\n",
       "      <td>Nível 1</td>\n",
       "      <td>Danos Elétricos</td>\n",
       "      <td>115</td>\n",
       "      <td>6</td>\n",
       "      <td>108</td>\n",
       "      <td>415,78</td>\n",
       "      <td></td>\n",
       "      <td></td>\n",
       "      <td></td>\n",
       "    </tr>\n",
       "    <tr>\n",
       "      <th>3</th>\n",
       "      <td>4</td>\n",
       "      <td>2025-04-15</td>\n",
       "      <td>2010-01-01</td>\n",
       "      <td>Amazonas Energia</td>\n",
       "      <td>02341467000120</td>\n",
       "      <td></td>\n",
       "      <td></td>\n",
       "      <td>AM</td>\n",
       "      <td>N</td>\n",
       "      <td>Concessionária</td>\n",
       "      <td>2</td>\n",
       "      <td>Nível 1</td>\n",
       "      <td>Tensão de Fornecimento</td>\n",
       "      <td>40</td>\n",
       "      <td>2</td>\n",
       "      <td>38</td>\n",
       "      <td>113,50</td>\n",
       "      <td></td>\n",
       "      <td></td>\n",
       "      <td></td>\n",
       "    </tr>\n",
       "    <tr>\n",
       "      <th>4</th>\n",
       "      <td>5</td>\n",
       "      <td>2025-04-15</td>\n",
       "      <td>2010-01-01</td>\n",
       "      <td>Amazonas Energia</td>\n",
       "      <td>02341467000120</td>\n",
       "      <td></td>\n",
       "      <td></td>\n",
       "      <td>AM</td>\n",
       "      <td>N</td>\n",
       "      <td>Concessionária</td>\n",
       "      <td>4</td>\n",
       "      <td>Nível 1</td>\n",
       "      <td>Tarifas</td>\n",
       "      <td>17</td>\n",
       "      <td>0</td>\n",
       "      <td>15</td>\n",
       "      <td>51,47</td>\n",
       "      <td></td>\n",
       "      <td></td>\n",
       "      <td></td>\n",
       "    </tr>\n",
       "  </tbody>\n",
       "</table>\n",
       "</div>"
      ],
      "text/plain": [
       "   _id DatGeracaoConjuntoDados DatReferencia         SigAgente  \\\n",
       "0    1              2025-04-15    2010-01-01  Amazonas Energia   \n",
       "1    2              2025-04-15    2010-01-01  Amazonas Energia   \n",
       "2    3              2025-04-15    2010-01-01  Amazonas Energia   \n",
       "3    4              2025-04-15    2010-01-01  Amazonas Energia   \n",
       "4    5              2025-04-15    2010-01-01  Amazonas Energia   \n",
       "\n",
       "       NumCPFCNPJ CodMunicipio NomMunicipio SigUF SigRegiao  \\\n",
       "0  02341467000120                              AM         N   \n",
       "1  02341467000120                              AM         N   \n",
       "2  02341467000120                              AM         N   \n",
       "3  02341467000120                              AM         N   \n",
       "4  02341467000120                              AM         N   \n",
       "\n",
       "  NomClassificacaoAgente CodTipoReclamacao NomCanalReclamacao  \\\n",
       "0         Concessionária                17            Nível 1   \n",
       "1         Concessionária                16            Nível 1   \n",
       "2         Concessionária                 3            Nível 1   \n",
       "3         Concessionária                 2            Nível 1   \n",
       "4         Concessionária                 4            Nível 1   \n",
       "\n",
       "                                      DescReclamacao QtdReclamacoesRecebidas  \\\n",
       "0                                             Outros                      16   \n",
       "1  Problemas de instalação interna na unidade con...                       0   \n",
       "2                                    Danos Elétricos                     115   \n",
       "3                             Tensão de Fornecimento                      40   \n",
       "4                                            Tarifas                      17   \n",
       "\n",
       "  QtdReclamacoesImprocedentes QtdReclamacoesProcedentes NumPrazoMedioSolucao  \\\n",
       "0                           2                        14                 4,02   \n",
       "1                           0                         0                  ,00   \n",
       "2                           6                       108               415,78   \n",
       "3                           2                        38               113,50   \n",
       "4                           0                        15                51,47   \n",
       "\n",
       "  DscFormaContato NumOuvPrazoMedioSolucaoImproc NumSacPrazoMedioSolucaoImproc  \n",
       "0                                                                              \n",
       "1                                                                              \n",
       "2                                                                              \n",
       "3                                                                              \n",
       "4                                                                              "
      ]
     },
     "execution_count": 1,
     "metadata": {},
     "output_type": "execute_result"
    }
   ],
   "source": [
    "import pandas as pd\n",
    "import requests\n",
    "from configs import RESOURCE_ID_ANEEL_API\n",
    "\n",
    "LIMIT = 1000\n",
    "url = f\"https://dadosabertos.aneel.gov.br/api/3/action/datastore_search?resource_id={RESOURCE_ID_ANEEL_API}&limit={LIMIT}\"\n",
    "response = requests.get(url)\n",
    "records = response.json()[\"result\"][\"records\"]\n",
    "df = pd.DataFrame(records)\n",
    "df.head()\n"
   ]
  },
  {
   "cell_type": "markdown",
   "id": "67f74e5e",
   "metadata": {},
   "source": [
    "### What are 1st and 2nd Level Complaints?\n",
    "\n",
    "The ANEEL dataset I’m using contains consumer complaint records filed against electricity distribution companies in Brazil. These complaints are classified into two levels, each with regulatory meaning and operational implications.\n",
    "\n",
    "#### 1st Level Complaints\n",
    "\n",
    "These are complaints submitted directly to the utility company’s service channels (phone, app, in-person, etc.). They are regulated under **ANEEL Resolution 414/2010** and represent the **initial point of contact** between consumers and the company.\n",
    "\n",
    "A high volume of 1st-level complaints may reflect issues in service delivery or communication failures.\n",
    "\n",
    "#### 2nd Level Complaints (Ouvidoria)\n",
    "\n",
    "When consumers are not satisfied with the response received at the 1st level, they can escalate their issue to the company’s **Ouvidoria** (ombudsman). This is the 2nd level of complaint, regulated under **ANEEL Resolution 470/2011**.\n",
    "\n",
    "The Ouvidoria operates independently from the customer service team and must issue a final response within a defined timeframe.\n",
    "\n",
    "#### Why this matters for analysis\n",
    "\n",
    "- **1st-level complaints** reveal volume and patterns of dissatisfaction\n",
    "- **2nd-level complaints** signal unresolved or escalated issues\n",
    "- Together, they allow me to evaluate how effective a utility is in resolving problems, and which regions or service categories are more problematic\n",
    "\n",
    "These distinctions are essential for sampling, bias analysis, and understanding population-level patterns in regulatory and consumer service data."
   ]
  },
  {
   "cell_type": "markdown",
   "id": "f5f2bbf5",
   "metadata": {},
   "source": [
    "This is my first look at the structure of the dataset. From here, I’ll begin exploring how random sampling works, and how easy it is to introduce bias."
   ]
  },
  {
   "cell_type": "markdown",
   "id": "f395d3c7",
   "metadata": {},
   "source": [
    "## 2.1.2 Random Sampling and Sample Bias"
   ]
  },
  {
   "cell_type": "code",
   "execution_count": 2,
   "id": "f23fd8fe-cea9-4a40-b710-029721b295ef",
   "metadata": {},
   "outputs": [
    {
     "name": "stdout",
     "output_type": "stream",
     "text": [
      "Index(['_id', 'DatGeracaoConjuntoDados', 'DatReferencia', 'SigAgente',\n",
      "       'NumCPFCNPJ', 'CodMunicipio', 'NomMunicipio', 'SigUF', 'SigRegiao',\n",
      "       'NomClassificacaoAgente', 'CodTipoReclamacao', 'NomCanalReclamacao',\n",
      "       'DescReclamacao', 'QtdReclamacoesRecebidas',\n",
      "       'QtdReclamacoesImprocedentes', 'QtdReclamacoesProcedentes',\n",
      "       'NumPrazoMedioSolucao', 'DscFormaContato',\n",
      "       'NumOuvPrazoMedioSolucaoImproc', 'NumSacPrazoMedioSolucaoImproc'],\n",
      "      dtype='object')\n"
     ]
    }
   ],
   "source": [
    "print(df.columns)"
   ]
  },
  {
   "cell_type": "code",
   "execution_count": 3,
   "id": "7bad8a3d",
   "metadata": {},
   "outputs": [],
   "source": [
    "import numpy as np\n",
    "import matplotlib.pyplot as plt\n",
    "\n",
    "pop_dist = df['SigUF'].value_counts(normalize=True).sort_index()\n",
    "sample_random = df.sample(n=200, random_state=42)\n",
    "sample_random_dist = sample_random['SigUF'].value_counts(normalize=True).sort_index()\n",
    "bias_filter = df[df['SigUF'].isin(['SP', 'MG', 'RJ', 'ES'])]\n",
    "sample_biased = bias_filter.sample(n=200, random_state=42)\n",
    "sample_biased_dist = sample_biased['SigUF'].value_counts(normalize=True).sort_index()"
   ]
  },
  {
   "cell_type": "code",
   "execution_count": 4,
   "id": "98ea38d3",
   "metadata": {},
   "outputs": [
    {
     "data": {
      "image/png": "[encoded data removed]",
      "text/plain": [
       "<Figure size 1200x400 with 3 Axes>"
      ]
     },
     "metadata": {},
     "output_type": "display_data"
    }
   ],
   "source": [
    "plt.figure(figsize=(12, 4))\n",
    "plt.subplot(1, 3, 1)\n",
    "pop_dist.plot(kind='bar', title='Population Distribution (Full Data)')\n",
    "plt.subplot(1, 3, 2)\n",
    "sample_random_dist.plot(kind='bar', title='Random Sample (n=200)')\n",
    "plt.subplot(1, 3, 3)\n",
    "sample_biased_dist.plot(kind='bar', title='Biased Sample: Southeast Only')\n",
    "plt.tight_layout()\n",
    "plt.show()"
   ]
  },
  {
   "cell_type": "markdown",
   "id": "fc5b2aef-49d9-434a-a575-fe0ca5d0fc92",
   "metadata": {},
   "source": [
    "### Reflections on Random Selection and Reproducibility\n",
    "\n",
    "In previous days of this study, I worked primarily with structured log data and explored sampling strategies through exploratory data analysis. Today, I’m dealing with a new dataset — complaints filed by energy consumers — and applying the same care to ensure **reliable sampling**.\n",
    "\n",
    "In this section, I applied `random_state` when generating my sample. This is something I’ve learned to value when analyzing production systems: **reproducibility matters**.\n",
    "\n",
    "Although each run of a random sample gives different results, setting a seed allows me to:\n",
    "\n",
    "- Run consistent experiments\n",
    "- Share my work with others (reproducibility)\n",
    "- Revisit an analysis later and get the same outcome\n",
    "\n",
    "This matters a lot when building experiments around incidents, alerts, or customer support metrics — areas where it’s easy to reach different conclusions if we don’t have stable baselines.\n",
    "\n",
    "The code I used also helped confirm that there are no missing values in key columns like `sigUF`, `ano`, or `tipo_atendimento`. This gives me confidence in the structure of the data before I go further."
   ]
  },
  {
   "cell_type": "markdown",
   "id": "b85bf976",
   "metadata": {},
   "source": [
    "## 2.1.3 Bias and Random Selection"
   ]
  },
  {
   "cell_type": "code",
   "execution_count": 6,
   "id": "07743022",
   "metadata": {},
   "outputs": [
    {
     "data": {
      "text/plain": [
       "SigUF                 0\n",
       "DatReferencia         0\n",
       "NomCanalReclamacao    0\n",
       "dtype: int64"
      ]
     },
     "execution_count": 6,
     "metadata": {},
     "output_type": "execute_result"
    }
   ],
   "source": [
    "df[['SigUF', 'DatReferencia', 'NomCanalReclamacao']].isna().sum()"
   ]
  },
  {
   "cell_type": "code",
   "execution_count": 7,
   "id": "5dc65441",
   "metadata": {},
   "outputs": [
    {
     "data": {
      "text/plain": [
       "SigUF\n",
       "SP    0.28\n",
       "SC    0.22\n",
       "RS    0.09\n",
       "PR    0.05\n",
       "SE    0.04\n",
       "Name: proportion, dtype: float64"
      ]
     },
     "execution_count": 7,
     "metadata": {},
     "output_type": "execute_result"
    }
   ],
   "source": [
    "sample = df.sample(n=100, random_state=123)\n",
    "sample['SigUF'].value_counts(normalize=True).head()"
   ]
  },
  {
   "cell_type": "markdown",
   "id": "06dd0783-4d2c-422e-b694-064048178fe8",
   "metadata": {},
   "source": [
    "### Reflections on Random Selection and Reproducibility\n",
    "\n",
    "In previous days of this study, I worked primarily with structured log data and explored sampling strategies through exploratory data analysis. Today, I’m dealing with a new dataset — complaints filed by energy consumers — and applying the same care to ensure **reliable sampling**.\n",
    "\n",
    "In this section, I applied `random_state` when generating my sample. This is something I’ve learned to value when analyzing production systems: **reproducibility matters**.\n",
    "\n",
    "Although each run of a random sample gives different results, setting a seed allows me to:\n",
    "\n",
    "- Run consistent experiments\n",
    "- Share my work with others (reproducibility)\n",
    "- Revisit an analysis later and get the same outcome\n",
    "\n",
    "This matters a lot when building experiments around incidents, alerts, or customer support metrics — areas where it’s easy to reach different conclusions if we don’t have stable baselines.\n",
    "\n",
    "The code I used also helped confirm that there are no missing values in key columns like `sigUF`, `ano`, or `tipo_atendimento`. This gives me confidence in the structure of the data before I go further."
   ]
  },
  {
   "cell_type": "markdown",
   "id": "0cc5c57b-031a-491a-a77a-d1ac7878f399",
   "metadata": {},
   "source": [
    "From this sample of 100 records, I can already observe some natural concentration patterns — SP and SC, for example, dominate the list.\n",
    "\n",
    "This isn’t necessarily a sign of bias; rather, it's a **normal outcome of random sampling** in datasets with uneven distributions.\n",
    "\n",
    "But it’s exactly why I need to be cautious when interpreting samples:\n",
    "\n",
    "- **SP appears in 28%** of the sample. Without context, I might falsely assume SP represents 28% of the overall complaint volume.\n",
    "- Smaller states or underrepresented regions may not appear at all in some samples — not because they don’t have complaints, but due to randomness.\n",
    "\n",
    "This reinforces an insight from earlier: even when using random sampling correctly, **sample size matters**. The smaller the sample, the higher the variance in representation — a topic I’ll explore further in the next section.\n",
    "\n",
    "For now, I’m satisfied that the data structure is clean (`isna().sum()` confirmed it), and that my sampling is behaving as expected."
   ]
  },
  {
   "cell_type": "markdown",
   "id": "def469a8",
   "metadata": {},
   "source": [
    "## 2.1.4 Sample Size vs Sample Quality"
   ]
  },
  {
   "cell_type": "code",
   "execution_count": 8,
   "id": "9698588b",
   "metadata": {},
   "outputs": [],
   "source": [
    "import seaborn as sns\n",
    "np.random.seed(42)\n",
    "\n",
    "def simulate_sample_means(df, size, n_simulations=100):\n",
    "    means = []\n",
    "    for _ in range(n_simulations):\n",
    "        sample = df.sample(n=size, replace=True)\n",
    "        count = sample['SigUF'].value_counts().mean()\n",
    "        means.append(count)\n",
    "    return means\n",
    "\n",
    "means_30 = simulate_sample_means(df, 30)\n",
    "means_100 = simulate_sample_means(df, 100)\n",
    "means_500 = simulate_sample_means(df, 500)"
   ]
  },
  {
   "cell_type": "code",
   "execution_count": 9,
   "id": "f4b34b72",
   "metadata": {},
   "outputs": [
    {
     "data": {
      "image/png": "[encoded data removed]",
      "text/plain": [
       "<Figure size 1000x400 with 1 Axes>"
      ]
     },
     "metadata": {},
     "output_type": "display_data"
    }
   ],
   "source": [
    "plt.figure(figsize=(10, 4))\n",
    "sns.kdeplot(means_30, label='n=30')\n",
    "sns.kdeplot(means_100, label='n=100')\n",
    "sns.kdeplot(means_500, label='n=500')\n",
    "plt.title(\"Distribution of Sample Means by Sample Size\")\n",
    "plt.xlabel(\"Average complaint count per state\")\n",
    "plt.legend()\n",
    "plt.tight_layout()\n",
    "plt.show()"
   ]
  },
  {
   "cell_type": "markdown",
   "id": "20da421e-627c-43c2-a69d-7b927b5eb277",
   "metadata": {},
   "source": [
    "The results from this section made it clear that small samples lead to high variability in the average number of complaints per state. When I used n=30, the sample means were very spread out — some even far from the population mean.\n",
    "\n",
    "With n=100, things started to stabilize, and with n=500, the estimate became highly reliable and consistent. This confirmed what I expected: larger samples reduce variance, making the analysis more trustworthy.\n",
    "\n",
    "For any monitoring or incident analysis system, this kind of evidence supports choosing a sufficiently large window of events or time — especially when deriving baselines, trends, or thresholds."
   ]
  },
  {
   "cell_type": "markdown",
   "id": "8df6d613",
   "metadata": {},
   "source": [
    "## 2.5 Sample Mean vs Population Mean"
   ]
  },
  {
   "cell_type": "code",
   "execution_count": 10,
   "id": "7760654b",
   "metadata": {},
   "outputs": [
    {
     "name": "stdout",
     "output_type": "stream",
     "text": [
      "Population mean complaint count per state: 50.00\n"
     ]
    }
   ],
   "source": [
    "pop_state_counts = df['SigUF'].value_counts()\n",
    "pop_mean = pop_state_counts.mean()\n",
    "print(f\"Population mean complaint count per state: {pop_mean:.2f}\")"
   ]
  },
  {
   "cell_type": "code",
   "execution_count": 11,
   "id": "edb703e7",
   "metadata": {},
   "outputs": [
    {
     "name": "stdout",
     "output_type": "stream",
     "text": [
      "Sample mean (n=50): 3.33\n",
      "Sample mean (n=100): 5.88\n",
      "Sample mean (n=200): 10.00\n"
     ]
    }
   ],
   "source": [
    "np.random.seed(42)\n",
    "sample_50 = df.sample(n=50)\n",
    "sample_100 = df.sample(n=100)\n",
    "sample_200 = df.sample(n=200)\n",
    "\n",
    "sample_mean_50 = sample_50['SigUF'].value_counts().mean()\n",
    "sample_mean_100 = sample_100['SigUF'].value_counts().mean()\n",
    "sample_mean_200 = sample_200['SigUF'].value_counts().mean()\n",
    "\n",
    "print(f\"Sample mean (n=50): {sample_mean_50:.2f}\")\n",
    "print(f\"Sample mean (n=100): {sample_mean_100:.2f}\")\n",
    "print(f\"Sample mean (n=200): {sample_mean_200:.2f}\")"
   ]
  },
  {
   "cell_type": "markdown",
   "id": "c87cff00-8233-4ca9-b9fd-73afb7d33058",
   "metadata": {},
   "source": [
    "This experiment was very helpful to validate everything I had explored so far.\n",
    "\n",
    "By comparing the population mean with the means calculated from samples of 50, 100, and 200 observations, I could confirm that **larger samples not only reduce variance, but also increase accuracy**. The sample mean from `n=200` was very close to the true population average.\n",
    "\n",
    "In practical terms, this means:\n",
    "- When making decisions based on data summaries, I should be careful with low-volume scenarios.\n",
    "- Aggregates based on small or biased samples can mislead — especially in environments like SRE or customer experience, where trade-offs are tight."
   ]
  },
  {
   "cell_type": "markdown",
   "id": "5113177b-2bd2-4c76-a311-46f7a1670aa4",
   "metadata": {},
   "source": [
    "## 💡 Final Considerations\n",
    "\n",
    "After completing the analyses proposed in Chapter 2 up to section 2.5, I feel I’ve deepened my understanding of how **sampling practices**, **bias**, and **estimator behavior** shape the reliability of statistical analyses — particularly in the context of real-world systems.\n",
    "\n",
    "Here’s a brief synthesis of what I learned:\n",
    "\n",
    "| Concept                         | Key Insight                                                                 |\n",
    "|----------------------------------|-----------------------------------------------------------------------------|\n",
    "| Random Sampling vs. Biased      | Only truly random samples preserve the population’s structure               |\n",
    "| Sample Size                     | Larger samples produce less variable and more accurate estimates            |\n",
    "| Mean Estimation                 | Sample means get closer to the population mean as size increases            |\n",
    "| Variance and Spread             | Small samples can mislead — especially in operational dashboards            |\n",
    "\n",
    "These findings reinforce that even when we can't observe the full system (which is often the case in SRE or incident analysis), we can improve the quality of our decisions by carefully selecting the size and source of our data windows.\n",
    "\n",
    "The next steps in the chapter will explore even more nuances about distribution behavior and deeper estimators."
   ]
  }
 ],
 "metadata": {
  "kernelspec": {
   "display_name": "Python 3 (ipykernel)",
   "language": "python",
   "name": "python3"
  },
  "language_info": {
   "codemirror_mode": {
    "name": "ipython",
    "version": 3
   },
   "file_extension": ".py",
   "mimetype": "text/x-python",
   "name": "python",
   "nbconvert_exporter": "python",
   "pygments_lexer": "ipython3",
   "version": "3.13.2"
  }
 },
 "nbformat": 4,
 "nbformat_minor": 5
}
